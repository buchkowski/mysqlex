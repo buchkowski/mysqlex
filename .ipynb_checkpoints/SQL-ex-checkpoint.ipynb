{
 "cells": [
  {
   "cell_type": "markdown",
   "id": "compliant-leadership",
   "metadata": {},
   "source": [
    "# SQL-ex\n",
    "## Данный проект создан для того, чтобы показать мой уровень владения SQL.\n",
    "Ниже написан код для создания БД с сайта https://sql-ex.ru/. \n",
    "Перейти к моим решениям задач, не пролистывая всю тетрадку --> [Задачи](#Задачи)"
   ]
  },
  {
   "cell_type": "code",
   "execution_count": 1,
   "id": "touched-economics",
   "metadata": {},
   "outputs": [],
   "source": [
    "import sqlite3\n",
    "import pandas as pd"
   ]
  },
  {
   "cell_type": "code",
   "execution_count": 62,
   "id": "previous-timing",
   "metadata": {},
   "outputs": [],
   "source": [
    "conn = sqlite3.connect('db')\n",
    "cur = conn.cursor()"
   ]
  },
  {
   "cell_type": "code",
   "execution_count": 63,
   "id": "dominican-massage",
   "metadata": {},
   "outputs": [],
   "source": [
    "sql = '''drop table if exists pass_in_trip;\n",
    "drop table if exists trip;\n",
    "drop table if exists passenger;\n",
    "drop table if exists company;\n",
    "\n",
    "--\n",
    "CREATE TABLE Company (\n",
    "\tID_comp int NOT NULL ,\n",
    "\tname char (10) NOT NULL \n",
    ")\n",
    ";\n",
    "\n",
    "CREATE TABLE Pass_in_trip (\n",
    "\ttrip_no int NOT NULL ,\n",
    "\tdate timestamp NOT NULL ,\n",
    "\tID_psg int NOT NULL ,\n",
    "\tplace char (10) NOT NULL \n",
    ")\n",
    ";\n",
    "\n",
    "CREATE TABLE Passenger (\n",
    "\tID_psg int NOT NULL ,\n",
    "\tname char (20) NOT NULL \n",
    ")\n",
    ";\n",
    "\n",
    "CREATE TABLE Trip (\n",
    "\ttrip_no int NOT NULL ,\n",
    "\tID_comp int NOT NULL ,\n",
    "\tplane char (10) NOT NULL ,\n",
    "\ttown_from char (25) NOT NULL ,\n",
    "\ttown_to char (25) NOT NULL ,\n",
    "\ttime_out timestamp NOT NULL ,\n",
    "\ttime_in timestamp NOT NULL \n",
    ")\n",
    ";\n",
    "\n",
    "                                                                                                                                                                                                                                                                 \n",
    "----Company------------------------------------------------------------------------------------------------------------------------------------------------------------------------------------------------------------------------------------------------------------ \n",
    "insert into Company values(1,'Don_avia  ');\n",
    "insert into Company values(2,'Aeroflot  ');\n",
    "insert into Company values(3,'Dale_avia ');\n",
    "insert into Company values(4,'air_France');\n",
    "insert into Company values(5,'British_AW');\n",
    "\n",
    "\n",
    "                                                                                                                                                                                                                                                                 \n",
    "----Passenger------------------------------------------------------------------------------------------------------------------------------------------------------------------------------------------------------------------------------------------------------------ \n",
    "insert into Passenger values(1,'Bruce Willis        ');\n",
    "insert into Passenger values(2,'George Clooney      ');\n",
    "insert into Passenger values(3,'Kevin Costner       ');\n",
    "insert into Passenger values(4,'Donald Sutherland   ');\n",
    "insert into Passenger values(5,'Jennifer Lopez      ');\n",
    "insert into Passenger values(6,'Ray Liotta          ');\n",
    "insert into Passenger values(7,'Samuel L. Jackson   ');\n",
    "insert into Passenger values(8,'Nikole Kidman       ');\n",
    "insert into Passenger values(9,'Alan Rickman        ');\n",
    "insert into Passenger values(10,'Kurt Russell        ');\n",
    "insert into Passenger values(11,'Harrison Ford       ');\n",
    "insert into Passenger values(12,'Russell Crowe       ');\n",
    "insert into Passenger values(13,'Steve Martin        ');\n",
    "insert into Passenger values(14,'Michael Caine       ');\n",
    "insert into Passenger values(15,'Angelina Jolie      ');\n",
    "insert into Passenger values(16,'Mel Gibson          ');\n",
    "insert into Passenger values(17,'Michael Douglas     ');\n",
    "insert into Passenger values(18,'John Travolta       ');\n",
    "insert into Passenger values(19,'Sylvester Stallone  ');\n",
    "insert into Passenger values(20,'Tommy Lee Jones     ');\n",
    "insert into Passenger values(21,'Catherine Zeta-Jones');\n",
    "insert into Passenger values(22,'Antonio Banderas    ');\n",
    "insert into Passenger values(23,'Kim Basinger        ');\n",
    "insert into Passenger values(24,'Sam Neill           ');\n",
    "insert into Passenger values(25,'Gary Oldman         ');\n",
    "insert into Passenger values(26,'Clint Eastwood      ');\n",
    "insert into Passenger values(27,'Brad Pitt           ');\n",
    "insert into Passenger values(28,'Johnny Depp         ');\n",
    "insert into Passenger values(29,'Pierce Brosnan      ');\n",
    "insert into Passenger values(30,'Sean Connery        ');\n",
    "insert into Passenger values(31,'Bruce Willis        ');\n",
    "insert into Passenger values(37,'Mullah Omar         ');\n",
    "\n",
    "\n",
    "\n",
    "                                                                                                                                                                                                                                                                 \n",
    "----Trip------------------------------------------------------------------------------------------------------------------------------------------------------------------------------------------------------------------------------------------------------------ \n",
    "insert into Trip values(1100,4,'Boeing    ','Rostov                   ','Paris                    ','19000101 14:30:00.000','19000101 17:50:00.000');\n",
    "insert into Trip values(1101,4,'Boeing    ','Paris                    ','Rostov                   ','19000101 08:12:00.000','19000101 11:45:00.000');\n",
    "insert into Trip values(1123,3,'TU-154    ','Rostov                   ','Vladivostok              ','19000101 16:20:00.000','19000101 03:40:00.000');\n",
    "insert into Trip values(1124,3,'TU-154    ','Vladivostok              ','Rostov                   ','19000101 09:00:00.000','19000101 19:50:00.000');\n",
    "insert into Trip values(1145,2,'IL-86     ','Moscow                   ','Rostov                   ','19000101 09:35:00.000','19000101 11:23:00.000');\n",
    "insert into Trip values(1146,2,'IL-86     ','Rostov                   ','Moscow                   ','19000101 17:55:00.000','19000101 20:01:00.000');\n",
    "insert into Trip values(1181,1,'TU-134    ','Rostov                   ','Moscow                   ','19000101 06:12:00.000','19000101 08:01:00.000');\n",
    "insert into Trip values(1182,1,'TU-134    ','Moscow                   ','Rostov                   ','19000101 12:35:00.000','19000101 14:30:00.000');\n",
    "insert into Trip values(1187,1,'TU-134    ','Rostov                   ','Moscow                   ','19000101 15:42:00.000','19000101 17:39:00.000');\n",
    "insert into Trip values(1188,1,'TU-134    ','Moscow                   ','Rostov                   ','19000101 22:50:00.000','19000101 00:48:00.000');\n",
    "insert into Trip values(1195,1,'TU-154    ','Rostov                   ','Moscow                   ','19000101 23:30:00.000','19000101 01:11:00.000');\n",
    "insert into Trip values(1196,1,'TU-154    ','Moscow                   ','Rostov                   ','19000101 04:00:00.000','19000101 05:45:00.000');\n",
    "insert into Trip values(7771,5,'Boeing    ','London                   ','Singapore                ','19000101 01:00:00.000','19000101 11:00:00.000');\n",
    "insert into Trip values(7772,5,'Boeing    ','Singapore                ','London                   ','19000101 12:00:00.000','19000101 02:00:00.000');\n",
    "insert into Trip values(7773,5,'Boeing    ','London                   ','Singapore                ','19000101 03:00:00.000','19000101 13:00:00.000');\n",
    "insert into Trip values(7774,5,'Boeing    ','Singapore                ','London                   ','19000101 14:00:00.000','19000101 06:00:00.000');\n",
    "insert into Trip values(7775,5,'Boeing    ','London                   ','Singapore                ','19000101 09:00:00.000','19000101 20:00:00.000');\n",
    "insert into Trip values(7776,5,'Boeing    ','Singapore                ','London                   ','19000101 18:00:00.000','19000101 08:00:00.000');\n",
    "insert into Trip values(7777,5,'Boeing    ','London                   ','Singapore                ','19000101 18:00:00.000','19000101 06:00:00.000');\n",
    "insert into Trip values(7778,5,'Boeing    ','Singapore                ','London                   ','19000101 22:00:00.000','19000101 12:00:00.000');\n",
    "insert into Trip values(8881,5,'Boeing    ','London                   ','Paris                    ','19000101 03:00:00.000','19000101 04:00:00.000');\n",
    "insert into Trip values(8882,5,'Boeing    ','Paris                    ','London                   ','19000101 22:00:00.000','19000101 23:00:00.000');\n",
    "\n",
    "\n",
    "\n",
    "                                                                                                                                                                                                                                                                 \n",
    "----Pass_in_trip------------------------------------------------------------------------------------------------------------------------------------------------------------------------------------------------------------------------------------------------------------ \n",
    "insert into Pass_in_trip values(1100,'20030429 00:00:00.000',1,'1a        ');\n",
    "insert into Pass_in_trip values(1123,'20030405 00:00:00.000',3,'2a        ');\n",
    "insert into Pass_in_trip values(1123,'20030408 00:00:00.000',1,'4c        ');\n",
    "insert into Pass_in_trip values(1123,'20030408 00:00:00.000',6,'4b        ');\n",
    "insert into Pass_in_trip values(1124,'20030402 00:00:00.000',2,'2d        ');\n",
    "insert into Pass_in_trip values(1145,'20030405 00:00:00.000',3,'2c        ');\n",
    "insert into Pass_in_trip values(1181,'20030401 00:00:00.000',1,'1a        ');\n",
    "insert into Pass_in_trip values(1181,'20030401 00:00:00.000',6,'1b        ');\n",
    "insert into Pass_in_trip values(1181,'20030401 00:00:00.000',8,'3c        ');\n",
    "insert into Pass_in_trip values(1181,'20030413 00:00:00.000',5,'1b        ');\n",
    "insert into Pass_in_trip values(1182,'20030413 00:00:00.000',5,'4b        ');\n",
    "insert into Pass_in_trip values(1187,'20030414 00:00:00.000',8,'3a        ');\n",
    "insert into Pass_in_trip values(1188,'20030401 00:00:00.000',8,'3a        ');\n",
    "insert into Pass_in_trip values(1182,'20030413 00:00:00.000',9,'6d        ');\n",
    "insert into Pass_in_trip values(1145,'20030425 00:00:00.000',5,'1d        ');\n",
    "insert into Pass_in_trip values(1187,'20030414 00:00:00.000',10,'3d        ');\n",
    "insert into Pass_in_trip values(8882,'20051106 00:00:00.000',37,'1a        ') ;\n",
    "insert into Pass_in_trip values(7771,'20051107 00:00:00.000',37,'1c        ') ;\n",
    "insert into Pass_in_trip values(7772,'20051107 00:00:00.000',37,'1a        ') ;\n",
    "insert into Pass_in_trip values(8881,'20051108 00:00:00.000',37,'1d        ') ;\n",
    "insert into Pass_in_trip values(7778,'20051105 00:00:00.000',10,'2a        ') ;\n",
    "insert into Pass_in_trip values(7772,'20051129 00:00:00.000',10,'3a        ');\n",
    "insert into Pass_in_trip values(7771,'20051104 00:00:00.000',11,'4a        ');\n",
    "insert into Pass_in_trip values(7771,'20051107 00:00:00.000',11,'1b        ');\n",
    "insert into Pass_in_trip values(7771,'20051109 00:00:00.000',11,'5a        ');\n",
    "insert into Pass_in_trip values(7772,'20051107 00:00:00.000',12,'1d        ');\n",
    "insert into Pass_in_trip values(7773,'20051107 00:00:00.000',13,'2d        ');\n",
    "insert into Pass_in_trip values(7772,'20051129 00:00:00.000',13,'1b        ');\n",
    "insert into Pass_in_trip values(8882,'20051113 00:00:00.000',14,'3d        ');\n",
    "insert into Pass_in_trip values(7771,'20051114 00:00:00.000',14,'4d        ');\n",
    "insert into Pass_in_trip values(7771,'20051116 00:00:00.000',14,'5d        ');\n",
    "insert into Pass_in_trip values(7772,'20051129 00:00:00.000',14,'1c        ');\n",
    "\n",
    "drop table if exists Laptop;\n",
    "drop table if exists PC;\n",
    "drop table if exists Printer;\n",
    "drop table if exists Product;\n",
    "\n",
    "CREATE TABLE Laptop (\n",
    "\tcode int NOT NULL ,\n",
    "\tmodel varchar (50) NOT NULL ,\n",
    "\tspeed smallint NOT NULL ,\n",
    "\tram smallint NOT NULL ,\n",
    "\thd real NOT NULL ,\n",
    "\tprice decimal(12,2) NULL ,\n",
    "\tscreen smallint NOT NULL \n",
    ") \n",
    ";\n",
    "\n",
    "CREATE TABLE PC (\n",
    "\tcode int NOT NULL ,\n",
    "\tmodel varchar (50) NOT NULL ,\n",
    "\tspeed smallint NOT NULL ,\n",
    "\tram smallint NOT NULL ,\n",
    "\thd real NOT NULL ,\n",
    "\tcd varchar (10) NOT NULL ,\n",
    "\tprice decimal(12,2) NULL \n",
    ") \n",
    ";\n",
    "\n",
    "CREATE TABLE Product (\n",
    "\tmaker varchar (10) NOT NULL ,\n",
    "\tmodel varchar (50) NOT NULL ,\n",
    "\ttype varchar (50) NOT NULL \n",
    ") \n",
    ";\n",
    "\n",
    "CREATE TABLE Printer (\n",
    "\tcode int NOT NULL ,\n",
    "\tmodel varchar (50) NOT NULL ,\n",
    "\tcolor char (1) NOT NULL ,\n",
    "\ttype varchar (10) NOT NULL ,\n",
    "\tprice decimal(12,2) NULL \n",
    ") \n",
    ";\n",
    "\n",
    "----Product------------------------------------------------------------------------------------------------------------------------------------------------------------------------------------------------------------------------------------------------------------ \n",
    "insert into Product values('B','1121','PC');\n",
    "insert into Product values('A','1232','PC');\n",
    "insert into Product values('A','1233','PC');\n",
    "insert into Product values('E','1260','PC');\n",
    "insert into Product values('A','1276','Printer');\n",
    "insert into Product values('D','1288','Printer');\n",
    "insert into Product values('A','1298','Laptop');\n",
    "insert into Product values('C','1321','Laptop');\n",
    "insert into Product values('A','1401','Printer');\n",
    "insert into Product values('A','1408','Printer');\n",
    "insert into Product values('D','1433','Printer');\n",
    "insert into Product values('E','1434','Printer');\n",
    "insert into Product values('B','1750','Laptop');\n",
    "insert into Product values('A','1752','Laptop');\n",
    "insert into Product values('E','2113','PC');\n",
    "insert into Product values('E','2112','PC');\n",
    "                                                                                                                                                                                                                                                                 \n",
    "----PC------------------------------------------------------------------------------------------------------------------------------------------------------------------------------------------------------------------------------------------------------------ \n",
    "insert into PC values(1,'1232',500,64,5,'12x','600');\n",
    "insert into PC values(2,'1121',750,128,14,'40x','850');\n",
    "insert into PC values(3,'1233',500,64,5,'12x','600');\n",
    "insert into PC values(4,'1121',600,128,14,'40x','850');\n",
    "insert into PC values(5,'1121',600,128,8,'40x','850');\n",
    "insert into PC values(6,'1233',750,128,20,'50x','950');\n",
    "insert into PC values(7,'1232',500,32,10,'12x','400');\n",
    "insert into PC values(8,'1232',450,64,8,'24x','350');\n",
    "insert into PC values(9,'1232',450,32,10,'24x','350');\n",
    "insert into PC values(10,'1260',500,32,10,'12x','350');\n",
    "insert into PC values(11,'1233',900,128,40,'40x','980');\n",
    "insert into PC values(12,'1233',800,128,20,'50x','970');\n",
    "\n",
    "                                                                                                                                                                                                                                                                 \n",
    "----Laptop------------------------------------------------------------------------------------------------------------------------------------------------------------------------------------------------------------------------------------------------------------ \n",
    "insert into Laptop values(1,'1298',350,32,4,'700',11);\n",
    "insert into Laptop values(2,'1321',500,64,8,'970',12);\n",
    "insert into Laptop values(3,'1750',750,128,12,'1200',14);\n",
    "insert into Laptop values(4,'1298',600,64,10,'1050',15);\n",
    "insert into Laptop values(5,'1752',750,128,10,'1150',14);\n",
    "insert into Laptop values(6,'1298',450,64,10,'950',12);\n",
    "\n",
    "                                                                                                                                                                                                                                                                 \n",
    "----Printer------------------------------------------------------------------------------------------------------------------------------------------------------------------------------------------------------------------------------------------------------------ \n",
    "insert into Printer values(1,'1276','n','Laser','400');\n",
    "insert into Printer values(2,'1433','y','Jet','270');\n",
    "insert into Printer values(3,'1434','y','Jet','290');\n",
    "insert into Printer values(4,'1401','n','Matrix','150');\n",
    "insert into Printer values(5,'1408','n','Matrix','270');\n",
    "insert into Printer values(6,'1288','n','Laser','400');\n",
    "\n",
    "-- select * from income\n",
    "drop table if exists Income;\n",
    "drop table if exists Outcome;\n",
    "drop table if exists Outcome_o;\n",
    "drop table if exists Income_o;\n",
    "\n",
    "CREATE TABLE Income (\n",
    "\tcode int NOT NULL ,\n",
    "\tpoint smallint NOT NULL ,\n",
    "\tdate timestamp NOT NULL ,\n",
    "\tinc decimal(12,2) NOT NULL \n",
    ") \n",
    ";\n",
    "\n",
    "CREATE TABLE Outcome (\n",
    "\tcode int NOT NULL ,\n",
    "\tpoint smallint NOT NULL ,\n",
    "\tdate timestamp NOT NULL ,\n",
    "\tout decimal(12,2) NOT NULL \n",
    ") \n",
    ";\n",
    "\n",
    "CREATE TABLE Income_o (\n",
    "\tpoint smallint NOT NULL ,\n",
    "\tdate timestamp NOT NULL ,\n",
    "\tinc decimal(12,2) NOT NULL \n",
    ") \n",
    ";\n",
    "\n",
    "CREATE TABLE Outcome_o (\n",
    "\tpoint smallint NOT NULL ,\n",
    "\tdate timestamp NOT NULL ,\n",
    "\tout decimal(12,2) NOT NULL \n",
    ") \n",
    ";\n",
    "                                                                                                                                                                                                                                                                 \n",
    "----Income------------------------------------------------------------------------------------------------------------------------------------------------------------------------------------------------------------------------------------------------------------ \n",
    "insert into Income values(1,1,'20010322 00:00:00.000','15000.00');\n",
    "insert into Income values(2,1,'20010323 00:00:00.000','15000.00');\n",
    "insert into Income values(3,1,'20010324 00:00:00.000','3600.00');\n",
    "insert into Income values(4,2,'20010322 00:00:00.000','10000.00');\n",
    "insert into Income values(5,2,'20010324 00:00:00.000','1500.00');\n",
    "insert into Income values(6,1,'20010413 00:00:00.000','5000.00');\n",
    "insert into Income values(7,1,'20010511 00:00:00.000','4500.00');\n",
    "insert into Income values(8,1,'20010322 00:00:00.000','15000.00');\n",
    "insert into Income values(9,2,'20010324 00:00:00.000','1500.00');\n",
    "insert into Income values(10,1,'20010413 00:00:00.000','5000.00');\n",
    "insert into Income values(11,1,'20010324 00:00:00.000','3400.00');\n",
    "insert into Income values(12,3,'20010913 00:00:00.000','1350.00');\n",
    "insert into Income values(13,3,'20010913 00:00:00.000','1750.00');\n",
    "\n",
    "                                                                                                                                                                                                                                                                 \n",
    "---------Outcome-----------------\n",
    "insert into Outcome values(1,1,'20010314 00:00:00.000','15348.00');\n",
    "insert into Outcome values(2,1,'20010324 00:00:00.000','3663.00');\n",
    "insert into Outcome values(3,1,'20010326 00:00:00.000','1221.00');\n",
    "insert into Outcome values(4,1,'20010328 00:00:00.000','2075.00');\n",
    "insert into Outcome values(5,1,'20010329 00:00:00.000','2004.00');\n",
    "insert into Outcome values(6,1,'20010411 00:00:00.000','3195.04');\n",
    "insert into Outcome values(7,1,'20010413 00:00:00.000','4490.00');\n",
    "insert into Outcome values(8,1,'20010427 00:00:00.000','3110.00');\n",
    "insert into Outcome values(9,1,'20010511 00:00:00.000','2530.00');\n",
    "insert into Outcome values(10,2,'20010322 00:00:00.000','1440.00');\n",
    "insert into Outcome values(11,2,'20010329 00:00:00.000','7848.00');\n",
    "insert into Outcome values(12,2,'20010402 00:00:00.000','2040.00');\n",
    "insert into Outcome values(13,1,'20010324 00:00:00.000','3500.00');\n",
    "insert into Outcome values(14,2,'20010322 00:00:00.000','1440.00');\n",
    "insert into Outcome values(15,1,'20010329 00:00:00.000','2006.00');\n",
    "insert into Outcome values(16,3,'20010913 00:00:00.000','1200.00');\n",
    "insert into Outcome values(17,3,'20010913 00:00:00.000','1500.00');\n",
    "insert into Outcome values(18,3,'20010914 00:00:00.000','1150.00');\n",
    "\n",
    "                                                                                                                                                                                                                                                                 \n",
    "--------Income_o --------------\n",
    "insert into Income_o values(1,'20010322 00:00:00.000','15000.00');\n",
    "insert into Income_o values(1,'20010323 00:00:00.000','15000.00');\n",
    "insert into Income_o values(1,'20010324 00:00:00.000','3400.00');\n",
    "insert into Income_o values(1,'20010413 00:00:00.000','5000.00');\n",
    "insert into Income_o values(1,'20010511 00:00:00.000','4500.00');\n",
    "insert into Income_o values(2,'20010322 00:00:00.000','10000.00');\n",
    "insert into Income_o values(2,'20010324 00:00:00.000','1500.00');\n",
    "insert into Income_o values(3,'20010913 00:00:00.000','11500.00');\n",
    "insert into Income_o values(3,'20011002 00:00:00.000','18000.00');\n",
    "\n",
    "\n",
    "                                                                                                                                                                                                                                                                 \n",
    "---------Outcome_o -----------\n",
    "insert into Outcome_o values(1,'20010314 00:00:00.000','15348');\n",
    "insert into Outcome_o values(1,'20010324 00:00:00.000','3663');\n",
    "insert into Outcome_o values(1,'20010326 00:00:00.000','1221');\n",
    "insert into Outcome_o values(1,'20010328 00:00:00.000','2075');\n",
    "insert into Outcome_o values(1,'20010329 00:00:00.000','2004');\n",
    "insert into Outcome_o values(1,'20010411 00:00:00.000','3195.04');\n",
    "insert into Outcome_o values(1,'20010413 00:00:00.000','4490');\n",
    "insert into Outcome_o values(1,'20010427 00:00:00.000','3110');\n",
    "insert into Outcome_o values(1,'20010511 00:00:00.000','2530');\n",
    "insert into Outcome_o values(2,'20010322 00:00:00.000','1440');\n",
    "insert into Outcome_o values(2,'20010329 00:00:00.000','7848');\n",
    "insert into Outcome_o values(2,'20010402 00:00:00.000','2040');\n",
    "insert into Outcome_o values(3,'20010913 00:00:00.000','1500');\n",
    "insert into Outcome_o values(3,'20010914 00:00:00.000','2300');\n",
    "insert into Outcome_o values(3,'20020916 00:00:00.000','2150');\n",
    "\n",
    "\n",
    "drop table if exists utb;\n",
    "drop table if exists utq;\n",
    "drop table if exists utv;\n",
    "--\n",
    "CREATE TABLE utB (\n",
    "\tB_DATETIME timestamp NOT NULL ,\n",
    "\tB_Q_ID int NOT NULL ,\n",
    "\tB_V_ID int NOT NULL ,\n",
    "\tB_VOL smallint NULL \n",
    ") \n",
    ";\n",
    "\n",
    "CREATE TABLE utQ (\n",
    "\tQ_ID int NOT NULL ,\n",
    "\tQ_NAME varchar (35) NOT NULL \n",
    ") \n",
    ";\n",
    "\n",
    "CREATE TABLE utV (\n",
    "\tV_ID int NOT NULL ,\n",
    "\tV_NAME varchar (35) NOT NULL ,\n",
    "\tV_COLOR char (1) NOT NULL \n",
    ") \n",
    ";\n",
    "\n",
    "                                                                                                                                                                                                                                                                \n",
    "----utQ------------------------------------------------------------------------------------------------------------------------------------------------------------------------------------------------------------------------------------------------------------ \n",
    "insert into utQ values(1,'Square # 01');\n",
    "insert into utQ values(2,'Square # 02');\n",
    "insert into utQ values(3,'Square # 03');\n",
    "insert into utQ values(4,'Square # 04');\n",
    "insert into utQ values(5,'Square # 05');\n",
    "insert into utQ values(6,'Square # 06');\n",
    "insert into utQ values(7,'Square # 07');\n",
    "insert into utQ values(8,'Square # 08');\n",
    "insert into utQ values(9,'Square # 09');\n",
    "insert into utQ values(10,'Square # 10');\n",
    "insert into utQ values(11,'Square # 11');\n",
    "insert into utQ values(12,'Square # 12');\n",
    "insert into utQ values(13,'Square # 13');\n",
    "insert into utQ values(14,'Square # 14');\n",
    "insert into utQ values(15,'Square # 15');\n",
    "insert into utQ values(16,'Square # 16');\n",
    "insert into utQ values(17,'Square # 17');\n",
    "insert into utQ values(18,'Square # 18');\n",
    "insert into utQ values(19,'Square # 19');\n",
    "insert into utQ values(20,'Square # 20');\n",
    "insert into utQ values(21,'Square # 21');\n",
    "insert into utQ values(22,'Square # 22');\n",
    "insert into utQ values(23,'Square # 23');\n",
    "insert into utQ values(25,'Square # 25');\n",
    "\n",
    "\n",
    "\n",
    "                                                                                                                                                                                                                                                                 \n",
    "----utV------------------------------------------------------------------------------------------------------------------------------------------------------------------------------------------------------------------------------------------------------------ \n",
    "insert into utV values(1,'Balloon # 01','R');\n",
    "insert into utV values(2,'Balloon # 02','R');\n",
    "insert into utV values(3,'Balloon # 03','R');\n",
    "insert into utV values(4,'Balloon # 04','G');\n",
    "insert into utV values(5,'Balloon # 05','G');\n",
    "insert into utV values(6,'Balloon # 06','G');\n",
    "insert into utV values(7,'Balloon # 07','B');\n",
    "insert into utV values(8,'Balloon # 08','B');\n",
    "insert into utV values(9,'Balloon # 09','B');\n",
    "insert into utV values(10,'Balloon # 10','R');\n",
    "insert into utV values(11,'Balloon # 11','R');\n",
    "insert into utV values(12,'Balloon # 12','R');\n",
    "insert into utV values(13,'Balloon # 13','G');\n",
    "insert into utV values(14,'Balloon # 14','G');\n",
    "insert into utV values(15,'Balloon # 15','B');\n",
    "insert into utV values(16,'Balloon # 16','B');\n",
    "insert into utV values(17,'Balloon # 17','R');\n",
    "insert into utV values(18,'Balloon # 18','G');\n",
    "insert into utV values(19,'Balloon # 19','B');\n",
    "insert into utV values(20,'Balloon # 20','R');\n",
    "insert into utV values(21,'Balloon # 21','G');\n",
    "insert into utV values(22,'Balloon # 22','B');\n",
    "insert into utV values(23,'Balloon # 23','R');\n",
    "insert into utV values(24,'Balloon # 24','G');\n",
    "insert into utV values(25,'Balloon # 25','B');\n",
    "insert into utV values(26,'Balloon # 26','B');\n",
    "insert into utV values(27,'Balloon # 27','R');\n",
    "insert into utV values(28,'Balloon # 28','G');\n",
    "insert into utV values(29,'Balloon # 29','R');\n",
    "insert into utV values(30,'Balloon # 30','G');\n",
    "insert into utV values(31,'Balloon # 31','R');\n",
    "insert into utV values(32,'Balloon # 32','G');\n",
    "insert into utV values(33,'Balloon # 33','B');\n",
    "insert into utV values(34,'Balloon # 34','R');\n",
    "insert into utV values(35,'Balloon # 35','G');\n",
    "insert into utV values(36,'Balloon # 36','B');\n",
    "insert into utV values(37,'Balloon # 37','R');\n",
    "insert into utV values(38,'Balloon # 38','G');\n",
    "insert into utV values(39,'Balloon # 39','B');\n",
    "insert into utV values(40,'Balloon # 40','R');\n",
    "insert into utV values(41,'Balloon # 41','R');\n",
    "insert into utV values(42,'Balloon # 42','G');\n",
    "insert into utV values(43,'Balloon # 43','B');\n",
    "insert into utV values(44,'Balloon # 44','R');\n",
    "insert into utV values(45,'Balloon # 45','G');\n",
    "insert into utV values(46,'Balloon # 46','B');\n",
    "insert into utV values(47,'Balloon # 47','B');\n",
    "insert into utV values(48,'Balloon # 48','G');\n",
    "insert into utV values(49,'Balloon # 49','R');\n",
    "insert into utV values(50,'Balloon # 50','G');\n",
    "insert into utV values(51,'Balloon # 51','B');\n",
    "insert into utV values(52,'Balloon # 52','R');\n",
    "insert into utV values(53,'Balloon # 53','G');\n",
    "insert into utV values(54,'Balloon # 54','B');\n",
    "\n",
    "                                                                                                                                                                                                                                                                 \n",
    "----utB------------------------------------------------------------------------------------------------------------------------------------------------------------------------------------------------------------------------------------------------------------ \n",
    "insert into utB values('20030101 01:12:01.000',1,1,155);\n",
    "insert into utB values('20030623 01:12:02.000',1,1,100);\n",
    "insert into utB values('20030101 01:12:03.000',2,2,255);\n",
    "insert into utB values('20030101 01:12:04.000',3,3,255);\n",
    "insert into utB values('20030101 01:12:05.000',1,4,255);\n",
    "insert into utB values('20030101 01:12:06.000',2,5,255);\n",
    "insert into utB values('20030101 01:12:07.000',3,6,255);\n",
    "insert into utB values('20030101 01:12:08.000',1,7,255);\n",
    "insert into utB values('20030101 01:12:09.000',2,8,255);\n",
    "insert into utB values('20030101 01:12:10.000',3,9,255);\n",
    "insert into utB values('20030101 01:12:11.000',4,10,50);\n",
    "insert into utB values('20030101 01:12:12.000',5,11,100);\n",
    "insert into utB values('20030101 01:12:13.000',5,12,155);\n",
    "insert into utB values('20030101 01:12:14.000',5,13,155);\n",
    "insert into utB values('20030101 01:12:15.000',5,14,100);\n",
    "insert into utB values('20030101 01:12:16.000',5,15,50);\n",
    "insert into utB values('20030101 01:12:17.000',5,16,205);\n",
    "insert into utB values('20030101 01:12:18.000',6,10,155);\n",
    "insert into utB values('20030101 01:12:19.000',6,17,100);\n",
    "insert into utB values('20030101 01:12:20.000',6,18,255);\n",
    "insert into utB values('20030101 01:12:21.000',6,19,255);\n",
    "insert into utB values('20030101 01:12:22.000',7,17,155);\n",
    "insert into utB values('20030101 01:12:23.000',7,20,100);\n",
    "insert into utB values('20030101 01:12:24.000',7,21,255);\n",
    "insert into utB values('20030101 01:12:25.000',7,22,255);\n",
    "insert into utB values('20030101 01:12:26.000',8,10,50);\n",
    "insert into utB values('20030101 01:12:27.000',9,23,255);\n",
    "insert into utB values('20030101 01:12:28.000',9,24,255);\n",
    "insert into utB values('20030101 01:12:29.000',9,25,100);\n",
    "insert into utB values('20030101 01:12:30.000',9,26,155);\n",
    "insert into utB values('20030101 01:12:31.000',10,25,155);\n",
    "insert into utB values('20030101 01:12:31.000',10,26,100);\n",
    "insert into utB values('20030101 01:12:33.000',10,27,10);\n",
    "insert into utB values('20030101 01:12:34.000',10,28,10);\n",
    "insert into utB values('20030101 01:12:35.000',10,29,245);\n",
    "insert into utB values('20030101 01:12:36.000',10,30,245);\n",
    "insert into utB values('20030101 01:12:37.000',11,31,100);\n",
    "insert into utB values('20030101 01:12:38.000',11,32,100);\n",
    "insert into utB values('20030101 01:12:39.000',11,33,100);\n",
    "insert into utB values('20030101 01:12:40.000',11,34,155);\n",
    "insert into utB values('20030101 01:12:41.000',11,35,155);\n",
    "insert into utB values('20030101 01:12:42.000',11,36,155);\n",
    "insert into utB values('20030101 01:12:43.000',12,31,155);\n",
    "insert into utB values('20030101 01:12:44.000',12,32,155);\n",
    "insert into utB values('20030101 01:12:45.000',12,33,155);\n",
    "insert into utB values('20030101 01:12:46.000',12,34,100);\n",
    "insert into utB values('20030101 01:12:47.000',12,35,100);\n",
    "insert into utB values('20030101 01:12:48.000',12,36,100);\n",
    "insert into utB values('20030101 01:13:01.000',4,37,20);\n",
    "insert into utB values('20030101 01:13:02.000',8,38,20);\n",
    "insert into utB values('20030101 01:13:03.000',13,39,123);\n",
    "insert into utB values('20030101 01:13:04.000',14,39,111);\n",
    "insert into utB values('20030101 01:13:05.000',14,40,50);\n",
    "insert into utB values('20030101 01:13:06.000',15,41,50);\n",
    "insert into utB values('20030101 01:13:07.000',15,41,50);\n",
    "insert into utB values('20030101 01:13:08.000',15,42,50);\n",
    "insert into utB values('20030101 01:13:09.000',15,42,50);\n",
    "insert into utB values('20030101 01:13:10.000',16,42,50);\n",
    "insert into utB values('20030101 01:13:11.000',16,42,50);\n",
    "insert into utB values('20030101 01:13:12.000',16,43,50);\n",
    "insert into utB values('20030101 01:13:13.000',16,43,50);\n",
    "insert into utB values('20030101 01:13:14.000',16,47,50);\n",
    "insert into utB values('20030101 01:13:15.000',17,44,10);\n",
    "insert into utB values('20030101 01:13:16.000',17,44,10);\n",
    "insert into utB values('20030101 01:13:17.000',17,45,10);\n",
    "insert into utB values('20030101 01:13:18.000',17,45,10);\n",
    "insert into utB values('20030201 01:13:19.000',18,45,10);\n",
    "insert into utB values('20030301 01:13:20.000',18,45,10);\n",
    "insert into utB values('20030401 01:13:21.000',18,46,10);\n",
    "insert into utB values('20030501 01:13:22.000',18,46,10);\n",
    "insert into utB values('20030611 01:13:23.000',19,44,10);\n",
    "insert into utB values('20030101 01:13:24.000',19,44,10);\n",
    "insert into utB values('20030101 01:13:25.000',19,45,10);\n",
    "insert into utB values('20030101 01:13:26.000',19,45,10);\n",
    "insert into utB values('20030201 01:13:27.000',20,45,10);\n",
    "insert into utB values('20030301 01:13:28.000',20,45,10);\n",
    "insert into utB values('20030401 01:13:29.000',20,46,10);\n",
    "insert into utB values('20030501 01:13:30.000',20,46,10);\n",
    "insert into utB values('20030201 01:13:31.000',21,49,50);\n",
    "insert into utB values('20030202 01:13:32.000',21,49,50);\n",
    "insert into utB values('20030203 01:13:33.000',21,50,50);\n",
    "insert into utB values('20030204 01:13:34.000',21,50,50);\n",
    "insert into utB values('20030205 01:13:35.000',21,48,1);\n",
    "insert into utB values('20000101 01:13:36.000',22,50,50);\n",
    "insert into utB values('20010101 01:13:37.000',22,50,50);\n",
    "insert into utB values('20020101 01:13:38.000',22,51,50);\n",
    "insert into utB values('20020601 01:13:39.000',22,51,50);\n",
    "insert into utB values('20030101 01:13:05.000',4,37,185);\n",
    "\n",
    "drop table if exists outcomes;\n",
    "drop table if exists ships;\n",
    "drop table if exists classes;\n",
    "drop table if exists battles;\n",
    "\n",
    "CREATE TABLE Battles (\n",
    "\tname varchar (20) NOT NULL ,\n",
    "\tdate timestamp NOT NULL \n",
    ") \n",
    ";\n",
    "\n",
    "CREATE TABLE Classes (\n",
    "\tclass varchar (50) NOT NULL ,\n",
    "\ttype varchar (2) NOT NULL ,\n",
    "\tcountry varchar (20) NOT NULL ,\n",
    "\tnumGuns smallint NULL ,\n",
    "\tbore real NULL ,\n",
    "\tdisplacement int NULL \n",
    ") \n",
    ";\n",
    "\n",
    "CREATE TABLE Ships (\n",
    "\tname varchar (50) NOT NULL ,\n",
    "\tclass varchar (50) NOT NULL ,\n",
    "\tlaunched smallint NULL \n",
    ") \n",
    ";\n",
    "\n",
    "CREATE TABLE Outcomes (\n",
    "\tship varchar (50) NOT NULL ,\n",
    "\tbattle varchar (20) NOT NULL ,\n",
    "\tresult varchar (10) NOT NULL \n",
    ") \n",
    ";\n",
    "\n",
    "                                                                                                                                                                                                                                                               \n",
    "----Classes------------------------------------------------------------------------------------------------------------------------------------------------------------------------------------------------------------------------------------------------------------ \n",
    "insert into Classes values('Bismarck','bb','Germany',8,15,42000);\n",
    "insert into Classes values('Iowa','bb','USA',9,16,46000);\n",
    "insert into Classes values('Kongo','bc','Japan',8,14,32000);\n",
    "insert into Classes values('North Carolina','bb','USA',12,16,37000);\n",
    "insert into Classes values('Renown','bc','Gt.Britain',6,15,32000);\n",
    "insert into Classes values('Revenge','bb','Gt.Britain',8,15,29000);\n",
    "insert into Classes values('Tennessee','bb','USA',12,14,32000);\n",
    "insert into Classes values('Yamato','bb','Japan',9,18,65000);\n",
    "\n",
    "\n",
    "\n",
    "                                                                                                                                                                                                                                                                 \n",
    "----Battles------------------------------------------------------------------------------------------------------------------------------------------------------------------------------------------------------------------------------------------------------------ \n",
    "insert into Battles values('Guadalcanal','19421115 00:00:00.000');\n",
    "insert into Battles values('North Atlantic','19410525 00:00:00.000');\n",
    "insert into Battles values('North Cape','19431226 00:00:00.000');\n",
    "insert into Battles values('Surigao Strait','19441025 00:00:00.000');\n",
    "insert into battles values ('#Cuba62a'   , '19621020');\n",
    "insert into battles values ('#Cuba62b'   , '19621025');\n",
    "\n",
    "\n",
    "\n",
    "                                                                                                                                                                                                                                                                 \n",
    "----Ships------------------------------------------------------------------------------------------------------------------------------------------------------------------------------------------------------------------------------------------------------------ \n",
    "insert into Ships values('California','Tennessee',1921);\n",
    "insert into Ships values('Haruna','Kongo',1916);\n",
    "insert into Ships values('Hiei','Kongo',1914);\n",
    "insert into Ships values('Iowa','Iowa',1943);\n",
    "insert into Ships values('Kirishima','Kongo',1915);\n",
    "insert into Ships values('Kongo','Kongo',1913);\n",
    "insert into Ships values('Missouri','Iowa',1944);\n",
    "insert into Ships values('Musashi','Yamato',1942);\n",
    "insert into Ships values('New Jersey','Iowa',1943);\n",
    "insert into Ships values('North Carolina','North Carolina',1941);\n",
    "insert into Ships values('Ramillies','Revenge',1917);\n",
    "insert into Ships values('Renown','Renown',1916);\n",
    "insert into Ships values('Repulse','Renown',1916);\n",
    "insert into Ships values('Resolution','Renown',1916);\n",
    "insert into Ships values('Revenge','Revenge',1916);\n",
    "insert into Ships values('Royal Oak','Revenge',1916);\n",
    "insert into Ships values('Royal Sovereign','Revenge',1916);\n",
    "insert into Ships values('Tennessee','Tennessee',1920);\n",
    "insert into Ships values('Washington','North Carolina',1941);\n",
    "insert into Ships values('Wisconsin','Iowa',1944);\n",
    "insert into Ships values('Yamato','Yamato',1941);\n",
    "insert into Ships values('South Dakota','North Carolina',1941) ;\n",
    "\n",
    "\n",
    "\n",
    "\n",
    "                                                                                                                                                                                                                                                                 \n",
    "----Outcomes------------------------------------------------------------------------------------------------------------------------------------------------------------------------------------------------------------------------------------------------------------ \n",
    "insert into Outcomes values('Bismarck','North Atlantic','sunk');\n",
    "insert into Outcomes values('California','Surigao Strait','OK');\n",
    "insert into Outcomes values('Duke of York','North Cape','OK');\n",
    "insert into Outcomes values('Fuso','Surigao Strait','sunk');\n",
    "insert into Outcomes values('Hood','North Atlantic','sunk');\n",
    "insert into Outcomes values('King George V','North Atlantic','OK');\n",
    "insert into Outcomes values('Kirishima','Guadalcanal','sunk');\n",
    "insert into Outcomes values('Prince of Wales','North Atlantic','damaged');\n",
    "insert into Outcomes values('Rodney','North Atlantic','OK');\n",
    "insert into Outcomes values('Schamhorst','North Cape','sunk');\n",
    "insert into Outcomes values('South Dakota','Guadalcanal','damaged');\n",
    "insert into Outcomes values('Tennessee','Surigao Strait','OK');\n",
    "insert into Outcomes values('Washington','Guadalcanal','OK');\n",
    "insert into Outcomes values('West Virginia','Surigao Strait','OK');\n",
    "insert into Outcomes values('Yamashiro','Surigao Strait','sunk');\n",
    "insert into Outcomes values('California','Guadalcanal','damaged');'''"
   ]
  },
  {
   "cell_type": "code",
   "execution_count": 64,
   "id": "handled-angola",
   "metadata": {},
   "outputs": [
    {
     "data": {
      "text/plain": [
       "<sqlite3.Cursor at 0x18e2e46bdc0>"
      ]
     },
     "execution_count": 64,
     "metadata": {},
     "output_type": "execute_result"
    }
   ],
   "source": [
    "cur.executescript(sql)"
   ]
  },
  {
   "cell_type": "code",
   "execution_count": 65,
   "id": "japanese-tulsa",
   "metadata": {},
   "outputs": [],
   "source": [
    "def select(sql):\n",
    "    return pd.read_sql(sql,conn)"
   ]
  },
  {
   "cell_type": "markdown",
   "id": "preliminary-retention",
   "metadata": {},
   "source": [
    "# Задачи\n",
    "Ниже представлен навигатор по задачам, разделенным по используемой БД. Из каждого раздела можно вернуться обратно к навигатору, ссылка под названием БД\n",
    "1. [Компьютерная фирма](#Компьютерная-фирма)\n",
    "2. [Корабли](#Корабли)\n",
    "3."
   ]
  },
  {
   "cell_type": "markdown",
   "id": "scheduled-computer",
   "metadata": {},
   "source": [
    "## Компьютерная фирма\n",
    "[Навигатор](#Задачи)"
   ]
  },
  {
   "cell_type": "markdown",
   "id": "excited-windows",
   "metadata": {},
   "source": [
    "Схема БД состоит из четырех таблиц:\n",
    "Product(maker, model, type)\n",
    "PC(code, model, speed, ram, hd, cd, price)\n",
    "Laptop(code, model, speed, ram, hd, price, screen)\n",
    "Printer(code, model, color, type, price)\n",
    "Таблица Product представляет производителя (maker), номер модели (model) и тип ('PC' - ПК, 'Laptop' - ПК-блокнот или 'Printer' - принтер). Предполагается, что номера моделей в таблице Product уникальны для всех производителей и типов продуктов. В таблице PC для каждого ПК, однозначно определяемого уникальным кодом – code, указаны модель – model (внешний ключ к таблице Product), скорость - speed (процессора в мегагерцах), объем памяти - ram (в мегабайтах), размер диска - hd (в гигабайтах), скорость считывающего устройства - cd (например, '4x') и цена - price. Таблица Laptop аналогична таблице РС за исключением того, что вместо скорости CD содержит размер экрана -screen (в дюймах). В таблице Printer для каждой модели принтера указывается, является ли он цветным - color ('y', если цветной), тип принтера - type (лазерный – 'Laser', струйный – 'Jet' или матричный – 'Matrix') и цена - price."
   ]
  },
  {
   "cell_type": "markdown",
   "id": "russian-print",
   "metadata": {},
   "source": [
    "### 1. Найдите номер модели, скорость и размер жесткого диска для всех ПК стоимостью менее 500 дол. Вывести: model, speed и hd"
   ]
  },
  {
   "cell_type": "code",
   "execution_count": 6,
   "id": "substantial-summer",
   "metadata": {},
   "outputs": [],
   "source": [
    "sql = '''\n",
    "SELECT model, speed, hd \n",
    "FROM pc\n",
    "WHERE price < 500\n",
    "'''"
   ]
  },
  {
   "cell_type": "code",
   "execution_count": 7,
   "id": "major-zealand",
   "metadata": {},
   "outputs": [
    {
     "data": {
      "text/html": [
       "<div>\n",
       "<style scoped>\n",
       "    .dataframe tbody tr th:only-of-type {\n",
       "        vertical-align: middle;\n",
       "    }\n",
       "\n",
       "    .dataframe tbody tr th {\n",
       "        vertical-align: top;\n",
       "    }\n",
       "\n",
       "    .dataframe thead th {\n",
       "        text-align: right;\n",
       "    }\n",
       "</style>\n",
       "<table border=\"1\" class=\"dataframe\">\n",
       "  <thead>\n",
       "    <tr style=\"text-align: right;\">\n",
       "      <th></th>\n",
       "      <th>model</th>\n",
       "      <th>speed</th>\n",
       "      <th>hd</th>\n",
       "    </tr>\n",
       "  </thead>\n",
       "  <tbody>\n",
       "    <tr>\n",
       "      <th>0</th>\n",
       "      <td>1232</td>\n",
       "      <td>500</td>\n",
       "      <td>10.0</td>\n",
       "    </tr>\n",
       "    <tr>\n",
       "      <th>1</th>\n",
       "      <td>1232</td>\n",
       "      <td>450</td>\n",
       "      <td>8.0</td>\n",
       "    </tr>\n",
       "    <tr>\n",
       "      <th>2</th>\n",
       "      <td>1232</td>\n",
       "      <td>450</td>\n",
       "      <td>10.0</td>\n",
       "    </tr>\n",
       "    <tr>\n",
       "      <th>3</th>\n",
       "      <td>1260</td>\n",
       "      <td>500</td>\n",
       "      <td>10.0</td>\n",
       "    </tr>\n",
       "  </tbody>\n",
       "</table>\n",
       "</div>"
      ],
      "text/plain": [
       "  model  speed    hd\n",
       "0  1232    500  10.0\n",
       "1  1232    450   8.0\n",
       "2  1232    450  10.0\n",
       "3  1260    500  10.0"
      ]
     },
     "execution_count": 7,
     "metadata": {},
     "output_type": "execute_result"
    }
   ],
   "source": [
    "select(sql)"
   ]
  },
  {
   "cell_type": "markdown",
   "id": "solved-somerset",
   "metadata": {},
   "source": [
    "### 2. Найдите производителей принтеров. Вывести: maker"
   ]
  },
  {
   "cell_type": "code",
   "execution_count": 8,
   "id": "acceptable-silver",
   "metadata": {},
   "outputs": [],
   "source": [
    "sql = '''\n",
    "SELECT DISTINCT maker\n",
    "FROM product\n",
    "WHERE type = 'Printer'\n",
    "'''"
   ]
  },
  {
   "cell_type": "code",
   "execution_count": 9,
   "id": "appreciated-sigma",
   "metadata": {},
   "outputs": [
    {
     "data": {
      "text/html": [
       "<div>\n",
       "<style scoped>\n",
       "    .dataframe tbody tr th:only-of-type {\n",
       "        vertical-align: middle;\n",
       "    }\n",
       "\n",
       "    .dataframe tbody tr th {\n",
       "        vertical-align: top;\n",
       "    }\n",
       "\n",
       "    .dataframe thead th {\n",
       "        text-align: right;\n",
       "    }\n",
       "</style>\n",
       "<table border=\"1\" class=\"dataframe\">\n",
       "  <thead>\n",
       "    <tr style=\"text-align: right;\">\n",
       "      <th></th>\n",
       "      <th>maker</th>\n",
       "    </tr>\n",
       "  </thead>\n",
       "  <tbody>\n",
       "    <tr>\n",
       "      <th>0</th>\n",
       "      <td>A</td>\n",
       "    </tr>\n",
       "    <tr>\n",
       "      <th>1</th>\n",
       "      <td>D</td>\n",
       "    </tr>\n",
       "    <tr>\n",
       "      <th>2</th>\n",
       "      <td>E</td>\n",
       "    </tr>\n",
       "  </tbody>\n",
       "</table>\n",
       "</div>"
      ],
      "text/plain": [
       "  maker\n",
       "0     A\n",
       "1     D\n",
       "2     E"
      ]
     },
     "execution_count": 9,
     "metadata": {},
     "output_type": "execute_result"
    }
   ],
   "source": [
    "select(sql)"
   ]
  },
  {
   "cell_type": "markdown",
   "id": "decent-stocks",
   "metadata": {},
   "source": [
    "### 3. Найдите номер модели, объем памяти и размеры экранов ПК-блокнотов, цена которых превышает 1000 дол."
   ]
  },
  {
   "cell_type": "code",
   "execution_count": 10,
   "id": "local-character",
   "metadata": {},
   "outputs": [],
   "source": [
    "sql = '''\n",
    "SELECT model, ram, screen\n",
    "FROM Laptop\n",
    "WHERE price > 1000\n",
    "'''"
   ]
  },
  {
   "cell_type": "code",
   "execution_count": 11,
   "id": "upset-sociology",
   "metadata": {},
   "outputs": [
    {
     "data": {
      "text/html": [
       "<div>\n",
       "<style scoped>\n",
       "    .dataframe tbody tr th:only-of-type {\n",
       "        vertical-align: middle;\n",
       "    }\n",
       "\n",
       "    .dataframe tbody tr th {\n",
       "        vertical-align: top;\n",
       "    }\n",
       "\n",
       "    .dataframe thead th {\n",
       "        text-align: right;\n",
       "    }\n",
       "</style>\n",
       "<table border=\"1\" class=\"dataframe\">\n",
       "  <thead>\n",
       "    <tr style=\"text-align: right;\">\n",
       "      <th></th>\n",
       "      <th>model</th>\n",
       "      <th>ram</th>\n",
       "      <th>screen</th>\n",
       "    </tr>\n",
       "  </thead>\n",
       "  <tbody>\n",
       "    <tr>\n",
       "      <th>0</th>\n",
       "      <td>1750</td>\n",
       "      <td>128</td>\n",
       "      <td>14</td>\n",
       "    </tr>\n",
       "    <tr>\n",
       "      <th>1</th>\n",
       "      <td>1298</td>\n",
       "      <td>64</td>\n",
       "      <td>15</td>\n",
       "    </tr>\n",
       "    <tr>\n",
       "      <th>2</th>\n",
       "      <td>1752</td>\n",
       "      <td>128</td>\n",
       "      <td>14</td>\n",
       "    </tr>\n",
       "  </tbody>\n",
       "</table>\n",
       "</div>"
      ],
      "text/plain": [
       "  model  ram  screen\n",
       "0  1750  128      14\n",
       "1  1298   64      15\n",
       "2  1752  128      14"
      ]
     },
     "execution_count": 11,
     "metadata": {},
     "output_type": "execute_result"
    }
   ],
   "source": [
    "select(sql)"
   ]
  },
  {
   "cell_type": "markdown",
   "id": "removable-cutting",
   "metadata": {},
   "source": [
    "### 4. Найдите все записи таблицы Printer для цветных принтеров.\n"
   ]
  },
  {
   "cell_type": "code",
   "execution_count": 12,
   "id": "paperback-trouble",
   "metadata": {},
   "outputs": [],
   "source": [
    "sql = '''\n",
    "SELECT *\n",
    "FROM Printer\n",
    "WHERE color = 'y'\n",
    "'''"
   ]
  },
  {
   "cell_type": "code",
   "execution_count": 13,
   "id": "protecting-sydney",
   "metadata": {
    "scrolled": true
   },
   "outputs": [
    {
     "data": {
      "text/html": [
       "<div>\n",
       "<style scoped>\n",
       "    .dataframe tbody tr th:only-of-type {\n",
       "        vertical-align: middle;\n",
       "    }\n",
       "\n",
       "    .dataframe tbody tr th {\n",
       "        vertical-align: top;\n",
       "    }\n",
       "\n",
       "    .dataframe thead th {\n",
       "        text-align: right;\n",
       "    }\n",
       "</style>\n",
       "<table border=\"1\" class=\"dataframe\">\n",
       "  <thead>\n",
       "    <tr style=\"text-align: right;\">\n",
       "      <th></th>\n",
       "      <th>code</th>\n",
       "      <th>model</th>\n",
       "      <th>color</th>\n",
       "      <th>type</th>\n",
       "      <th>price</th>\n",
       "    </tr>\n",
       "  </thead>\n",
       "  <tbody>\n",
       "    <tr>\n",
       "      <th>0</th>\n",
       "      <td>2</td>\n",
       "      <td>1433</td>\n",
       "      <td>y</td>\n",
       "      <td>Jet</td>\n",
       "      <td>270</td>\n",
       "    </tr>\n",
       "    <tr>\n",
       "      <th>1</th>\n",
       "      <td>3</td>\n",
       "      <td>1434</td>\n",
       "      <td>y</td>\n",
       "      <td>Jet</td>\n",
       "      <td>290</td>\n",
       "    </tr>\n",
       "  </tbody>\n",
       "</table>\n",
       "</div>"
      ],
      "text/plain": [
       "   code model color type  price\n",
       "0     2  1433     y  Jet    270\n",
       "1     3  1434     y  Jet    290"
      ]
     },
     "execution_count": 13,
     "metadata": {},
     "output_type": "execute_result"
    }
   ],
   "source": [
    "select(sql)"
   ]
  },
  {
   "cell_type": "markdown",
   "id": "medium-choir",
   "metadata": {},
   "source": [
    "### 5. Найдите номер модели, скорость и размер жесткого диска ПК, имеющих 12x или 24x CD и цену менее 600 дол.\n"
   ]
  },
  {
   "cell_type": "code",
   "execution_count": 14,
   "id": "likely-cooperation",
   "metadata": {},
   "outputs": [],
   "source": [
    "sql = '''\n",
    "SELECT model, speed, hd\n",
    "FROM pc\n",
    "WHERE cd IN ('12x','24x') AND price < 600\n",
    "'''"
   ]
  },
  {
   "cell_type": "code",
   "execution_count": 15,
   "id": "developing-obligation",
   "metadata": {},
   "outputs": [
    {
     "data": {
      "text/html": [
       "<div>\n",
       "<style scoped>\n",
       "    .dataframe tbody tr th:only-of-type {\n",
       "        vertical-align: middle;\n",
       "    }\n",
       "\n",
       "    .dataframe tbody tr th {\n",
       "        vertical-align: top;\n",
       "    }\n",
       "\n",
       "    .dataframe thead th {\n",
       "        text-align: right;\n",
       "    }\n",
       "</style>\n",
       "<table border=\"1\" class=\"dataframe\">\n",
       "  <thead>\n",
       "    <tr style=\"text-align: right;\">\n",
       "      <th></th>\n",
       "      <th>model</th>\n",
       "      <th>speed</th>\n",
       "      <th>hd</th>\n",
       "    </tr>\n",
       "  </thead>\n",
       "  <tbody>\n",
       "    <tr>\n",
       "      <th>0</th>\n",
       "      <td>1232</td>\n",
       "      <td>500</td>\n",
       "      <td>10.0</td>\n",
       "    </tr>\n",
       "    <tr>\n",
       "      <th>1</th>\n",
       "      <td>1232</td>\n",
       "      <td>450</td>\n",
       "      <td>8.0</td>\n",
       "    </tr>\n",
       "    <tr>\n",
       "      <th>2</th>\n",
       "      <td>1232</td>\n",
       "      <td>450</td>\n",
       "      <td>10.0</td>\n",
       "    </tr>\n",
       "    <tr>\n",
       "      <th>3</th>\n",
       "      <td>1260</td>\n",
       "      <td>500</td>\n",
       "      <td>10.0</td>\n",
       "    </tr>\n",
       "  </tbody>\n",
       "</table>\n",
       "</div>"
      ],
      "text/plain": [
       "  model  speed    hd\n",
       "0  1232    500  10.0\n",
       "1  1232    450   8.0\n",
       "2  1232    450  10.0\n",
       "3  1260    500  10.0"
      ]
     },
     "execution_count": 15,
     "metadata": {},
     "output_type": "execute_result"
    }
   ],
   "source": [
    "select(sql)"
   ]
  },
  {
   "cell_type": "markdown",
   "id": "unable-liabilities",
   "metadata": {},
   "source": [
    "### 6. Для каждого производителя, выпускающего ПК-блокноты c объёмом жесткого диска не менее 10 Гбайт, найти скорости таких ПК-блокнотов. Вывод: производитель, скорость."
   ]
  },
  {
   "cell_type": "code",
   "execution_count": 16,
   "id": "ordered-permit",
   "metadata": {},
   "outputs": [],
   "source": [
    "sql = '''\n",
    "SELECT DISTINCT product.maker, laptop.speed\n",
    "FROM product INNER JOIN laptop \n",
    "ON product.model = laptop.model\n",
    "WHERE laptop.hd >= 10.0\n",
    "'''"
   ]
  },
  {
   "cell_type": "code",
   "execution_count": 17,
   "id": "timely-canadian",
   "metadata": {
    "scrolled": true
   },
   "outputs": [
    {
     "data": {
      "text/html": [
       "<div>\n",
       "<style scoped>\n",
       "    .dataframe tbody tr th:only-of-type {\n",
       "        vertical-align: middle;\n",
       "    }\n",
       "\n",
       "    .dataframe tbody tr th {\n",
       "        vertical-align: top;\n",
       "    }\n",
       "\n",
       "    .dataframe thead th {\n",
       "        text-align: right;\n",
       "    }\n",
       "</style>\n",
       "<table border=\"1\" class=\"dataframe\">\n",
       "  <thead>\n",
       "    <tr style=\"text-align: right;\">\n",
       "      <th></th>\n",
       "      <th>maker</th>\n",
       "      <th>speed</th>\n",
       "    </tr>\n",
       "  </thead>\n",
       "  <tbody>\n",
       "    <tr>\n",
       "      <th>0</th>\n",
       "      <td>B</td>\n",
       "      <td>750</td>\n",
       "    </tr>\n",
       "    <tr>\n",
       "      <th>1</th>\n",
       "      <td>A</td>\n",
       "      <td>600</td>\n",
       "    </tr>\n",
       "    <tr>\n",
       "      <th>2</th>\n",
       "      <td>A</td>\n",
       "      <td>750</td>\n",
       "    </tr>\n",
       "    <tr>\n",
       "      <th>3</th>\n",
       "      <td>A</td>\n",
       "      <td>450</td>\n",
       "    </tr>\n",
       "  </tbody>\n",
       "</table>\n",
       "</div>"
      ],
      "text/plain": [
       "  maker  speed\n",
       "0     B    750\n",
       "1     A    600\n",
       "2     A    750\n",
       "3     A    450"
      ]
     },
     "execution_count": 17,
     "metadata": {},
     "output_type": "execute_result"
    }
   ],
   "source": [
    "select(sql)"
   ]
  },
  {
   "cell_type": "markdown",
   "id": "suited-accent",
   "metadata": {},
   "source": [
    "### Найдите номера моделей и цены всех имеющихся в продаже продуктов (любого типа) производителя B (латинская буква)."
   ]
  },
  {
   "cell_type": "code",
   "execution_count": 18,
   "id": "polyphonic-commerce",
   "metadata": {},
   "outputs": [],
   "source": [
    "sql = '''\n",
    "WITH B_Products AS (SELECT *\n",
    "FROM product\n",
    "WHERE maker = 'B')\n",
    "SELECT B_Products.model, laptop.price\n",
    "FROM B_Products INNER JOIN laptop\n",
    "ON B_Products.model = laptop.model\n",
    "UNION\n",
    "SELECT B_Products.model, pc.price\n",
    "FROM B_Products INNER JOIN pc\n",
    "ON B_Products.model = pc.model\n",
    "UNION\n",
    "SELECT B_Products.model, printer.price\n",
    "FROM B_Products INNER JOIN printer\n",
    "ON B_Products.model = printer.model\n",
    "'''"
   ]
  },
  {
   "cell_type": "code",
   "execution_count": 19,
   "id": "dressed-ukraine",
   "metadata": {
    "scrolled": true
   },
   "outputs": [
    {
     "data": {
      "text/html": [
       "<div>\n",
       "<style scoped>\n",
       "    .dataframe tbody tr th:only-of-type {\n",
       "        vertical-align: middle;\n",
       "    }\n",
       "\n",
       "    .dataframe tbody tr th {\n",
       "        vertical-align: top;\n",
       "    }\n",
       "\n",
       "    .dataframe thead th {\n",
       "        text-align: right;\n",
       "    }\n",
       "</style>\n",
       "<table border=\"1\" class=\"dataframe\">\n",
       "  <thead>\n",
       "    <tr style=\"text-align: right;\">\n",
       "      <th></th>\n",
       "      <th>model</th>\n",
       "      <th>price</th>\n",
       "    </tr>\n",
       "  </thead>\n",
       "  <tbody>\n",
       "    <tr>\n",
       "      <th>0</th>\n",
       "      <td>1121</td>\n",
       "      <td>850</td>\n",
       "    </tr>\n",
       "    <tr>\n",
       "      <th>1</th>\n",
       "      <td>1750</td>\n",
       "      <td>1200</td>\n",
       "    </tr>\n",
       "  </tbody>\n",
       "</table>\n",
       "</div>"
      ],
      "text/plain": [
       "  model  price\n",
       "0  1121    850\n",
       "1  1750   1200"
      ]
     },
     "execution_count": 19,
     "metadata": {},
     "output_type": "execute_result"
    }
   ],
   "source": [
    "select(sql)"
   ]
  },
  {
   "cell_type": "markdown",
   "id": "satisfied-boxing",
   "metadata": {},
   "source": [
    "### 8. Найдите производителя, выпускающего ПК, но не ПК-блокноты."
   ]
  },
  {
   "cell_type": "code",
   "execution_count": 20,
   "id": "binary-youth",
   "metadata": {},
   "outputs": [],
   "source": [
    "sql = '''\n",
    "SELECT DISTINCT maker\n",
    "FROM product\n",
    "WHERE type = 'PC' \n",
    "EXCEPT\n",
    "SELECT DISTINCT maker\n",
    "FROM product\n",
    "WHERE type = 'Laptop'\n",
    "'''"
   ]
  },
  {
   "cell_type": "code",
   "execution_count": 21,
   "id": "catholic-nelson",
   "metadata": {
    "scrolled": true
   },
   "outputs": [
    {
     "data": {
      "text/html": [
       "<div>\n",
       "<style scoped>\n",
       "    .dataframe tbody tr th:only-of-type {\n",
       "        vertical-align: middle;\n",
       "    }\n",
       "\n",
       "    .dataframe tbody tr th {\n",
       "        vertical-align: top;\n",
       "    }\n",
       "\n",
       "    .dataframe thead th {\n",
       "        text-align: right;\n",
       "    }\n",
       "</style>\n",
       "<table border=\"1\" class=\"dataframe\">\n",
       "  <thead>\n",
       "    <tr style=\"text-align: right;\">\n",
       "      <th></th>\n",
       "      <th>maker</th>\n",
       "    </tr>\n",
       "  </thead>\n",
       "  <tbody>\n",
       "    <tr>\n",
       "      <th>0</th>\n",
       "      <td>E</td>\n",
       "    </tr>\n",
       "  </tbody>\n",
       "</table>\n",
       "</div>"
      ],
      "text/plain": [
       "  maker\n",
       "0     E"
      ]
     },
     "execution_count": 21,
     "metadata": {},
     "output_type": "execute_result"
    }
   ],
   "source": [
    "select(sql)"
   ]
  },
  {
   "cell_type": "markdown",
   "id": "pharmaceutical-incentive",
   "metadata": {},
   "source": [
    "### 9. Найдите производителей ПК с процессором не менее 450 Мгц. Вывести: Maker"
   ]
  },
  {
   "cell_type": "code",
   "execution_count": 22,
   "id": "cosmetic-sight",
   "metadata": {},
   "outputs": [],
   "source": [
    "sql = '''\n",
    "SELECT DISTINCT t.maker\n",
    "FROM product AS t\n",
    "INNER JOIN pc\n",
    "ON t.model = pc.model\n",
    "WHERE pc.speed >= 450\n",
    "'''"
   ]
  },
  {
   "cell_type": "code",
   "execution_count": 23,
   "id": "burning-kidney",
   "metadata": {},
   "outputs": [
    {
     "data": {
      "text/html": [
       "<div>\n",
       "<style scoped>\n",
       "    .dataframe tbody tr th:only-of-type {\n",
       "        vertical-align: middle;\n",
       "    }\n",
       "\n",
       "    .dataframe tbody tr th {\n",
       "        vertical-align: top;\n",
       "    }\n",
       "\n",
       "    .dataframe thead th {\n",
       "        text-align: right;\n",
       "    }\n",
       "</style>\n",
       "<table border=\"1\" class=\"dataframe\">\n",
       "  <thead>\n",
       "    <tr style=\"text-align: right;\">\n",
       "      <th></th>\n",
       "      <th>maker</th>\n",
       "    </tr>\n",
       "  </thead>\n",
       "  <tbody>\n",
       "    <tr>\n",
       "      <th>0</th>\n",
       "      <td>A</td>\n",
       "    </tr>\n",
       "    <tr>\n",
       "      <th>1</th>\n",
       "      <td>B</td>\n",
       "    </tr>\n",
       "    <tr>\n",
       "      <th>2</th>\n",
       "      <td>E</td>\n",
       "    </tr>\n",
       "  </tbody>\n",
       "</table>\n",
       "</div>"
      ],
      "text/plain": [
       "  maker\n",
       "0     A\n",
       "1     B\n",
       "2     E"
      ]
     },
     "execution_count": 23,
     "metadata": {},
     "output_type": "execute_result"
    }
   ],
   "source": [
    "select(sql)"
   ]
  },
  {
   "cell_type": "markdown",
   "id": "rental-andrews",
   "metadata": {},
   "source": [
    "### 10. Найдите модели принтеров, имеющих самую высокую цену. Вывести: model, price"
   ]
  },
  {
   "cell_type": "code",
   "execution_count": 24,
   "id": "narrow-documentary",
   "metadata": {},
   "outputs": [],
   "source": [
    "sql = '''\n",
    "SELECT model, price\n",
    "FROM printer\n",
    "WHERE price = (SELECT MAX(price) FROM printer)\n",
    "'''"
   ]
  },
  {
   "cell_type": "code",
   "execution_count": 25,
   "id": "adequate-czech",
   "metadata": {},
   "outputs": [
    {
     "data": {
      "text/html": [
       "<div>\n",
       "<style scoped>\n",
       "    .dataframe tbody tr th:only-of-type {\n",
       "        vertical-align: middle;\n",
       "    }\n",
       "\n",
       "    .dataframe tbody tr th {\n",
       "        vertical-align: top;\n",
       "    }\n",
       "\n",
       "    .dataframe thead th {\n",
       "        text-align: right;\n",
       "    }\n",
       "</style>\n",
       "<table border=\"1\" class=\"dataframe\">\n",
       "  <thead>\n",
       "    <tr style=\"text-align: right;\">\n",
       "      <th></th>\n",
       "      <th>model</th>\n",
       "      <th>price</th>\n",
       "    </tr>\n",
       "  </thead>\n",
       "  <tbody>\n",
       "    <tr>\n",
       "      <th>0</th>\n",
       "      <td>1276</td>\n",
       "      <td>400</td>\n",
       "    </tr>\n",
       "    <tr>\n",
       "      <th>1</th>\n",
       "      <td>1288</td>\n",
       "      <td>400</td>\n",
       "    </tr>\n",
       "  </tbody>\n",
       "</table>\n",
       "</div>"
      ],
      "text/plain": [
       "  model  price\n",
       "0  1276    400\n",
       "1  1288    400"
      ]
     },
     "execution_count": 25,
     "metadata": {},
     "output_type": "execute_result"
    }
   ],
   "source": [
    "select(sql)"
   ]
  },
  {
   "cell_type": "markdown",
   "id": "a3a4e64c",
   "metadata": {},
   "source": [
    "### 11. Найдите среднюю скорость ПК."
   ]
  },
  {
   "cell_type": "code",
   "execution_count": 26,
   "id": "39bc4fd5",
   "metadata": {},
   "outputs": [],
   "source": [
    "sql = '''\n",
    "SELECT AVG(t.speed)\n",
    "FROM pc AS t\n",
    "'''"
   ]
  },
  {
   "cell_type": "code",
   "execution_count": 27,
   "id": "aa32ce74",
   "metadata": {},
   "outputs": [
    {
     "data": {
      "text/html": [
       "<div>\n",
       "<style scoped>\n",
       "    .dataframe tbody tr th:only-of-type {\n",
       "        vertical-align: middle;\n",
       "    }\n",
       "\n",
       "    .dataframe tbody tr th {\n",
       "        vertical-align: top;\n",
       "    }\n",
       "\n",
       "    .dataframe thead th {\n",
       "        text-align: right;\n",
       "    }\n",
       "</style>\n",
       "<table border=\"1\" class=\"dataframe\">\n",
       "  <thead>\n",
       "    <tr style=\"text-align: right;\">\n",
       "      <th></th>\n",
       "      <th>AVG(t.speed)</th>\n",
       "    </tr>\n",
       "  </thead>\n",
       "  <tbody>\n",
       "    <tr>\n",
       "      <th>0</th>\n",
       "      <td>608.333333</td>\n",
       "    </tr>\n",
       "  </tbody>\n",
       "</table>\n",
       "</div>"
      ],
      "text/plain": [
       "   AVG(t.speed)\n",
       "0    608.333333"
      ]
     },
     "execution_count": 27,
     "metadata": {},
     "output_type": "execute_result"
    }
   ],
   "source": [
    "select(sql)"
   ]
  },
  {
   "cell_type": "markdown",
   "id": "344e4ff6",
   "metadata": {},
   "source": [
    "### 12. Найдите среднюю скорость ПК-блокнотов, цена которых превышает 1000 дол."
   ]
  },
  {
   "cell_type": "code",
   "execution_count": 28,
   "id": "eb68a489",
   "metadata": {},
   "outputs": [],
   "source": [
    "sql = '''\n",
    "SELECT AVG(t.speed)\n",
    "FROM laptop AS t\n",
    "WHERE t.price > 1000\n",
    "'''"
   ]
  },
  {
   "cell_type": "code",
   "execution_count": 29,
   "id": "4dc27146",
   "metadata": {},
   "outputs": [
    {
     "data": {
      "text/html": [
       "<div>\n",
       "<style scoped>\n",
       "    .dataframe tbody tr th:only-of-type {\n",
       "        vertical-align: middle;\n",
       "    }\n",
       "\n",
       "    .dataframe tbody tr th {\n",
       "        vertical-align: top;\n",
       "    }\n",
       "\n",
       "    .dataframe thead th {\n",
       "        text-align: right;\n",
       "    }\n",
       "</style>\n",
       "<table border=\"1\" class=\"dataframe\">\n",
       "  <thead>\n",
       "    <tr style=\"text-align: right;\">\n",
       "      <th></th>\n",
       "      <th>AVG(t.speed)</th>\n",
       "    </tr>\n",
       "  </thead>\n",
       "  <tbody>\n",
       "    <tr>\n",
       "      <th>0</th>\n",
       "      <td>700.0</td>\n",
       "    </tr>\n",
       "  </tbody>\n",
       "</table>\n",
       "</div>"
      ],
      "text/plain": [
       "   AVG(t.speed)\n",
       "0         700.0"
      ]
     },
     "execution_count": 29,
     "metadata": {},
     "output_type": "execute_result"
    }
   ],
   "source": [
    "select(sql)"
   ]
  },
  {
   "cell_type": "markdown",
   "id": "9c206325",
   "metadata": {},
   "source": [
    "### 13. Найдите среднюю скорость ПК, выпущенных производителем A."
   ]
  },
  {
   "cell_type": "code",
   "execution_count": 30,
   "id": "86621352",
   "metadata": {},
   "outputs": [],
   "source": [
    "sql = '''\n",
    "SELECT AVG(pc.speed)\n",
    "FROM pc\n",
    "INNER JOIN product ON product.model = pc.model\n",
    "WHERE product.maker = \"A\"\n",
    "'''"
   ]
  },
  {
   "cell_type": "code",
   "execution_count": 31,
   "id": "11408e29",
   "metadata": {},
   "outputs": [
    {
     "data": {
      "text/html": [
       "<div>\n",
       "<style scoped>\n",
       "    .dataframe tbody tr th:only-of-type {\n",
       "        vertical-align: middle;\n",
       "    }\n",
       "\n",
       "    .dataframe tbody tr th {\n",
       "        vertical-align: top;\n",
       "    }\n",
       "\n",
       "    .dataframe thead th {\n",
       "        text-align: right;\n",
       "    }\n",
       "</style>\n",
       "<table border=\"1\" class=\"dataframe\">\n",
       "  <thead>\n",
       "    <tr style=\"text-align: right;\">\n",
       "      <th></th>\n",
       "      <th>AVG(pc.speed)</th>\n",
       "    </tr>\n",
       "  </thead>\n",
       "  <tbody>\n",
       "    <tr>\n",
       "      <th>0</th>\n",
       "      <td>606.25</td>\n",
       "    </tr>\n",
       "  </tbody>\n",
       "</table>\n",
       "</div>"
      ],
      "text/plain": [
       "   AVG(pc.speed)\n",
       "0         606.25"
      ]
     },
     "execution_count": 31,
     "metadata": {},
     "output_type": "execute_result"
    }
   ],
   "source": [
    "select(sql)"
   ]
  },
  {
   "cell_type": "markdown",
   "id": "739b9597",
   "metadata": {},
   "source": [
    "### 14. Найдите размеры жестких дисков, совпадающих у двух и более PC. Вывести: HD"
   ]
  },
  {
   "cell_type": "code",
   "execution_count": 32,
   "id": "182d151d",
   "metadata": {},
   "outputs": [],
   "source": [
    "sql = '''\n",
    "SELECT hd\n",
    "FROM pc\n",
    "GROUP BY hd\n",
    "HAVING COUNT(model) >= 2;\n",
    "'''"
   ]
  },
  {
   "cell_type": "code",
   "execution_count": 33,
   "id": "9f2da4c2",
   "metadata": {},
   "outputs": [
    {
     "data": {
      "text/html": [
       "<div>\n",
       "<style scoped>\n",
       "    .dataframe tbody tr th:only-of-type {\n",
       "        vertical-align: middle;\n",
       "    }\n",
       "\n",
       "    .dataframe tbody tr th {\n",
       "        vertical-align: top;\n",
       "    }\n",
       "\n",
       "    .dataframe thead th {\n",
       "        text-align: right;\n",
       "    }\n",
       "</style>\n",
       "<table border=\"1\" class=\"dataframe\">\n",
       "  <thead>\n",
       "    <tr style=\"text-align: right;\">\n",
       "      <th></th>\n",
       "      <th>hd</th>\n",
       "    </tr>\n",
       "  </thead>\n",
       "  <tbody>\n",
       "    <tr>\n",
       "      <th>0</th>\n",
       "      <td>5.0</td>\n",
       "    </tr>\n",
       "    <tr>\n",
       "      <th>1</th>\n",
       "      <td>8.0</td>\n",
       "    </tr>\n",
       "    <tr>\n",
       "      <th>2</th>\n",
       "      <td>10.0</td>\n",
       "    </tr>\n",
       "    <tr>\n",
       "      <th>3</th>\n",
       "      <td>14.0</td>\n",
       "    </tr>\n",
       "    <tr>\n",
       "      <th>4</th>\n",
       "      <td>20.0</td>\n",
       "    </tr>\n",
       "  </tbody>\n",
       "</table>\n",
       "</div>"
      ],
      "text/plain": [
       "     hd\n",
       "0   5.0\n",
       "1   8.0\n",
       "2  10.0\n",
       "3  14.0\n",
       "4  20.0"
      ]
     },
     "execution_count": 33,
     "metadata": {},
     "output_type": "execute_result"
    }
   ],
   "source": [
    "select(sql)"
   ]
  },
  {
   "cell_type": "markdown",
   "id": "37d3be45",
   "metadata": {},
   "source": [
    "### 15. Найдите пары моделей PC, имеющих одинаковые скорость и RAM. В результате каждая пара указывается только один раз, т.е. (i,j), но не (j,i), Порядок вывода: модель с большим номером, модель с меньшим номером, скорость и RAM."
   ]
  },
  {
   "cell_type": "code",
   "execution_count": 34,
   "id": "fa698cb0",
   "metadata": {},
   "outputs": [],
   "source": [
    "sql = '''\n",
    "SELECT DISTINCT t1.model, t2.model, t1.speed, t1.ram\n",
    "FROM pc AS t1, pc as t2\n",
    "WHERE t1.speed = t2.speed\n",
    "AND t1.ram = t2.ram\n",
    "AND t1.model > t2.model\n",
    "'''"
   ]
  },
  {
   "cell_type": "code",
   "execution_count": 35,
   "id": "23ee777a",
   "metadata": {},
   "outputs": [
    {
     "data": {
      "text/html": [
       "<div>\n",
       "<style scoped>\n",
       "    .dataframe tbody tr th:only-of-type {\n",
       "        vertical-align: middle;\n",
       "    }\n",
       "\n",
       "    .dataframe tbody tr th {\n",
       "        vertical-align: top;\n",
       "    }\n",
       "\n",
       "    .dataframe thead th {\n",
       "        text-align: right;\n",
       "    }\n",
       "</style>\n",
       "<table border=\"1\" class=\"dataframe\">\n",
       "  <thead>\n",
       "    <tr style=\"text-align: right;\">\n",
       "      <th></th>\n",
       "      <th>model</th>\n",
       "      <th>model</th>\n",
       "      <th>speed</th>\n",
       "      <th>ram</th>\n",
       "    </tr>\n",
       "  </thead>\n",
       "  <tbody>\n",
       "    <tr>\n",
       "      <th>0</th>\n",
       "      <td>1233</td>\n",
       "      <td>1232</td>\n",
       "      <td>500</td>\n",
       "      <td>64</td>\n",
       "    </tr>\n",
       "    <tr>\n",
       "      <th>1</th>\n",
       "      <td>1233</td>\n",
       "      <td>1121</td>\n",
       "      <td>750</td>\n",
       "      <td>128</td>\n",
       "    </tr>\n",
       "    <tr>\n",
       "      <th>2</th>\n",
       "      <td>1260</td>\n",
       "      <td>1232</td>\n",
       "      <td>500</td>\n",
       "      <td>32</td>\n",
       "    </tr>\n",
       "  </tbody>\n",
       "</table>\n",
       "</div>"
      ],
      "text/plain": [
       "  model model  speed  ram\n",
       "0  1233  1232    500   64\n",
       "1  1233  1121    750  128\n",
       "2  1260  1232    500   32"
      ]
     },
     "execution_count": 35,
     "metadata": {},
     "output_type": "execute_result"
    }
   ],
   "source": [
    "select(sql)"
   ]
  },
  {
   "cell_type": "markdown",
   "id": "d66a72b8",
   "metadata": {},
   "source": [
    "### 16. Найдите модели ПК-блокнотов, скорость которых меньше скорости каждого из ПК. Вывести: type, model, speed"
   ]
  },
  {
   "cell_type": "code",
   "execution_count": 36,
   "id": "be6fb792",
   "metadata": {},
   "outputs": [],
   "source": [
    "sql = '''\n",
    "SELECT DISTINCT product.type, laptop.model, laptop.speed\n",
    "FROM product, laptop\n",
    "WHERE (product.model = laptop.model) AND\n",
    "(laptop.speed < ALL(SELECT speed\n",
    "FROM pc))\n",
    "'''"
   ]
  },
  {
   "cell_type": "markdown",
   "id": "518aac0a",
   "metadata": {},
   "source": [
    "### Второй способ:"
   ]
  },
  {
   "cell_type": "code",
   "execution_count": 37,
   "id": "b530e240",
   "metadata": {},
   "outputs": [],
   "source": [
    "sql = '''\n",
    "SELECT DISTINCT p.type,p.model,l.speed\n",
    "FROM laptop l\n",
    "JOIN product p ON l.model = p.model\n",
    "WHERE l.speed < (SELECT MIN(speed)\n",
    "                      FROM pc) \n",
    "'''"
   ]
  },
  {
   "cell_type": "code",
   "execution_count": 38,
   "id": "0d60bbda",
   "metadata": {},
   "outputs": [
    {
     "data": {
      "text/html": [
       "<div>\n",
       "<style scoped>\n",
       "    .dataframe tbody tr th:only-of-type {\n",
       "        vertical-align: middle;\n",
       "    }\n",
       "\n",
       "    .dataframe tbody tr th {\n",
       "        vertical-align: top;\n",
       "    }\n",
       "\n",
       "    .dataframe thead th {\n",
       "        text-align: right;\n",
       "    }\n",
       "</style>\n",
       "<table border=\"1\" class=\"dataframe\">\n",
       "  <thead>\n",
       "    <tr style=\"text-align: right;\">\n",
       "      <th></th>\n",
       "      <th>type</th>\n",
       "      <th>model</th>\n",
       "      <th>speed</th>\n",
       "    </tr>\n",
       "  </thead>\n",
       "  <tbody>\n",
       "    <tr>\n",
       "      <th>0</th>\n",
       "      <td>Laptop</td>\n",
       "      <td>1298</td>\n",
       "      <td>350</td>\n",
       "    </tr>\n",
       "  </tbody>\n",
       "</table>\n",
       "</div>"
      ],
      "text/plain": [
       "     type model  speed\n",
       "0  Laptop  1298    350"
      ]
     },
     "execution_count": 38,
     "metadata": {},
     "output_type": "execute_result"
    }
   ],
   "source": [
    "select(sql)"
   ]
  },
  {
   "cell_type": "markdown",
   "id": "9ee8ace8",
   "metadata": {},
   "source": [
    "### 17. Найдите производителей самых дешевых цветных принтеров. Вывести: maker, price"
   ]
  },
  {
   "cell_type": "code",
   "execution_count": 39,
   "id": "da5c6636",
   "metadata": {},
   "outputs": [],
   "source": [
    "sql = '''\n",
    "SELECT DISTINCT t.maker, p.price\n",
    "FROM product AS t, printer AS p\n",
    "WHERE t.model = p.model\n",
    "AND p.color = 'y'\n",
    "AND p.price = (\n",
    "SELECT MIN(price) FROM printer AS p\n",
    "WHERE p.color = 'y'\n",
    ")\n",
    "'''"
   ]
  },
  {
   "cell_type": "code",
   "execution_count": 40,
   "id": "ee1ba583",
   "metadata": {},
   "outputs": [
    {
     "data": {
      "text/html": [
       "<div>\n",
       "<style scoped>\n",
       "    .dataframe tbody tr th:only-of-type {\n",
       "        vertical-align: middle;\n",
       "    }\n",
       "\n",
       "    .dataframe tbody tr th {\n",
       "        vertical-align: top;\n",
       "    }\n",
       "\n",
       "    .dataframe thead th {\n",
       "        text-align: right;\n",
       "    }\n",
       "</style>\n",
       "<table border=\"1\" class=\"dataframe\">\n",
       "  <thead>\n",
       "    <tr style=\"text-align: right;\">\n",
       "      <th></th>\n",
       "      <th>maker</th>\n",
       "      <th>price</th>\n",
       "    </tr>\n",
       "  </thead>\n",
       "  <tbody>\n",
       "    <tr>\n",
       "      <th>0</th>\n",
       "      <td>D</td>\n",
       "      <td>270</td>\n",
       "    </tr>\n",
       "  </tbody>\n",
       "</table>\n",
       "</div>"
      ],
      "text/plain": [
       "  maker  price\n",
       "0     D    270"
      ]
     },
     "execution_count": 40,
     "metadata": {},
     "output_type": "execute_result"
    }
   ],
   "source": [
    "select(sql)"
   ]
  },
  {
   "cell_type": "markdown",
   "id": "fbbba280",
   "metadata": {},
   "source": [
    "### 18. Для каждого производителя, имеющего модели в таблице Laptop, найдите средний размер экрана выпускаемых им ПК-блокнотов. Вывести: maker, средний размер экрана."
   ]
  },
  {
   "cell_type": "code",
   "execution_count": 41,
   "id": "3f9f41d7",
   "metadata": {},
   "outputs": [],
   "source": [
    "sql = '''\n",
    "SELECT t.maker, AVG(l.screen) AS Avg_screen\n",
    "FROM product AS t INNER JOIN Laptop AS l\n",
    "ON t.model = l.model\n",
    "GROUP BY t.maker\n",
    "'''"
   ]
  },
  {
   "cell_type": "code",
   "execution_count": 42,
   "id": "fedd68f9",
   "metadata": {},
   "outputs": [
    {
     "data": {
      "text/html": [
       "<div>\n",
       "<style scoped>\n",
       "    .dataframe tbody tr th:only-of-type {\n",
       "        vertical-align: middle;\n",
       "    }\n",
       "\n",
       "    .dataframe tbody tr th {\n",
       "        vertical-align: top;\n",
       "    }\n",
       "\n",
       "    .dataframe thead th {\n",
       "        text-align: right;\n",
       "    }\n",
       "</style>\n",
       "<table border=\"1\" class=\"dataframe\">\n",
       "  <thead>\n",
       "    <tr style=\"text-align: right;\">\n",
       "      <th></th>\n",
       "      <th>maker</th>\n",
       "      <th>Avg_screen</th>\n",
       "    </tr>\n",
       "  </thead>\n",
       "  <tbody>\n",
       "    <tr>\n",
       "      <th>0</th>\n",
       "      <td>A</td>\n",
       "      <td>13.0</td>\n",
       "    </tr>\n",
       "    <tr>\n",
       "      <th>1</th>\n",
       "      <td>B</td>\n",
       "      <td>14.0</td>\n",
       "    </tr>\n",
       "    <tr>\n",
       "      <th>2</th>\n",
       "      <td>C</td>\n",
       "      <td>12.0</td>\n",
       "    </tr>\n",
       "  </tbody>\n",
       "</table>\n",
       "</div>"
      ],
      "text/plain": [
       "  maker  Avg_screen\n",
       "0     A        13.0\n",
       "1     B        14.0\n",
       "2     C        12.0"
      ]
     },
     "execution_count": 42,
     "metadata": {},
     "output_type": "execute_result"
    }
   ],
   "source": [
    "select(sql)"
   ]
  },
  {
   "cell_type": "markdown",
   "id": "ba9f642a",
   "metadata": {},
   "source": [
    "### 19. Найдите производителей, выпускающих по меньшей мере три различных модели ПК. Вывести: Maker, число моделей ПК."
   ]
  },
  {
   "cell_type": "code",
   "execution_count": 43,
   "id": "d211dba7",
   "metadata": {},
   "outputs": [],
   "source": [
    "sql = '''\n",
    "SELECT t.maker, COUNT(DISTINCT t.model)\n",
    "FROM product AS t\n",
    "WHERE type = 'PC'\n",
    "GROUP BY t.maker\n",
    "HAVING COUNT(DISTINCT t.model)>=3\n",
    "'''"
   ]
  },
  {
   "cell_type": "code",
   "execution_count": 44,
   "id": "78ec94f5",
   "metadata": {},
   "outputs": [
    {
     "data": {
      "text/html": [
       "<div>\n",
       "<style scoped>\n",
       "    .dataframe tbody tr th:only-of-type {\n",
       "        vertical-align: middle;\n",
       "    }\n",
       "\n",
       "    .dataframe tbody tr th {\n",
       "        vertical-align: top;\n",
       "    }\n",
       "\n",
       "    .dataframe thead th {\n",
       "        text-align: right;\n",
       "    }\n",
       "</style>\n",
       "<table border=\"1\" class=\"dataframe\">\n",
       "  <thead>\n",
       "    <tr style=\"text-align: right;\">\n",
       "      <th></th>\n",
       "      <th>maker</th>\n",
       "      <th>COUNT(DISTINCT t.model)</th>\n",
       "    </tr>\n",
       "  </thead>\n",
       "  <tbody>\n",
       "    <tr>\n",
       "      <th>0</th>\n",
       "      <td>E</td>\n",
       "      <td>3</td>\n",
       "    </tr>\n",
       "  </tbody>\n",
       "</table>\n",
       "</div>"
      ],
      "text/plain": [
       "  maker  COUNT(DISTINCT t.model)\n",
       "0     E                        3"
      ]
     },
     "execution_count": 44,
     "metadata": {},
     "output_type": "execute_result"
    }
   ],
   "source": [
    "select(sql)"
   ]
  },
  {
   "cell_type": "markdown",
   "id": "554f6f55",
   "metadata": {},
   "source": [
    "### 20. Найдите максимальную цену ПК, выпускаемых каждым производителем, у которого есть модели в таблице PC. Вывести: maker, максимальная цена."
   ]
  },
  {
   "cell_type": "code",
   "execution_count": 45,
   "id": "2116b290",
   "metadata": {},
   "outputs": [],
   "source": [
    "sql = '''\n",
    "SELECT t.maker, MAX(p.price)\n",
    "FROM product AS t INNER JOIN pc AS p ON t.model = p.model\n",
    "GROUP BY t.maker\n",
    "'''"
   ]
  },
  {
   "cell_type": "code",
   "execution_count": 46,
   "id": "cde8e3bc",
   "metadata": {},
   "outputs": [
    {
     "data": {
      "text/html": [
       "<div>\n",
       "<style scoped>\n",
       "    .dataframe tbody tr th:only-of-type {\n",
       "        vertical-align: middle;\n",
       "    }\n",
       "\n",
       "    .dataframe tbody tr th {\n",
       "        vertical-align: top;\n",
       "    }\n",
       "\n",
       "    .dataframe thead th {\n",
       "        text-align: right;\n",
       "    }\n",
       "</style>\n",
       "<table border=\"1\" class=\"dataframe\">\n",
       "  <thead>\n",
       "    <tr style=\"text-align: right;\">\n",
       "      <th></th>\n",
       "      <th>maker</th>\n",
       "      <th>MAX(p.price)</th>\n",
       "    </tr>\n",
       "  </thead>\n",
       "  <tbody>\n",
       "    <tr>\n",
       "      <th>0</th>\n",
       "      <td>A</td>\n",
       "      <td>980</td>\n",
       "    </tr>\n",
       "    <tr>\n",
       "      <th>1</th>\n",
       "      <td>B</td>\n",
       "      <td>850</td>\n",
       "    </tr>\n",
       "    <tr>\n",
       "      <th>2</th>\n",
       "      <td>E</td>\n",
       "      <td>350</td>\n",
       "    </tr>\n",
       "  </tbody>\n",
       "</table>\n",
       "</div>"
      ],
      "text/plain": [
       "  maker  MAX(p.price)\n",
       "0     A           980\n",
       "1     B           850\n",
       "2     E           350"
      ]
     },
     "execution_count": 46,
     "metadata": {},
     "output_type": "execute_result"
    }
   ],
   "source": [
    "select(sql)"
   ]
  },
  {
   "cell_type": "markdown",
   "id": "fab667ae",
   "metadata": {},
   "source": [
    "### 21. Для каждого значения скорости ПК, превышающего 600 МГц, определите среднюю цену ПК с такой же скоростью. Вывести: speed, средняя цена."
   ]
  },
  {
   "cell_type": "code",
   "execution_count": 47,
   "id": "23e23375",
   "metadata": {},
   "outputs": [],
   "source": [
    "sql = '''\n",
    "SELECT t.speed, AVG(t.price) AS AvgPrice\n",
    "FROM pc AS t\n",
    "GROUP BY speed\n",
    "HAVING t.speed > 600\n",
    "'''"
   ]
  },
  {
   "cell_type": "code",
   "execution_count": 48,
   "id": "01622850",
   "metadata": {},
   "outputs": [
    {
     "data": {
      "text/html": [
       "<div>\n",
       "<style scoped>\n",
       "    .dataframe tbody tr th:only-of-type {\n",
       "        vertical-align: middle;\n",
       "    }\n",
       "\n",
       "    .dataframe tbody tr th {\n",
       "        vertical-align: top;\n",
       "    }\n",
       "\n",
       "    .dataframe thead th {\n",
       "        text-align: right;\n",
       "    }\n",
       "</style>\n",
       "<table border=\"1\" class=\"dataframe\">\n",
       "  <thead>\n",
       "    <tr style=\"text-align: right;\">\n",
       "      <th></th>\n",
       "      <th>speed</th>\n",
       "      <th>AvgPrice</th>\n",
       "    </tr>\n",
       "  </thead>\n",
       "  <tbody>\n",
       "    <tr>\n",
       "      <th>0</th>\n",
       "      <td>750</td>\n",
       "      <td>900.0</td>\n",
       "    </tr>\n",
       "    <tr>\n",
       "      <th>1</th>\n",
       "      <td>800</td>\n",
       "      <td>970.0</td>\n",
       "    </tr>\n",
       "    <tr>\n",
       "      <th>2</th>\n",
       "      <td>900</td>\n",
       "      <td>980.0</td>\n",
       "    </tr>\n",
       "  </tbody>\n",
       "</table>\n",
       "</div>"
      ],
      "text/plain": [
       "   speed  AvgPrice\n",
       "0    750     900.0\n",
       "1    800     970.0\n",
       "2    900     980.0"
      ]
     },
     "execution_count": 48,
     "metadata": {},
     "output_type": "execute_result"
    }
   ],
   "source": [
    "select(sql)"
   ]
  },
  {
   "cell_type": "markdown",
   "id": "e7742c52",
   "metadata": {},
   "source": [
    "### 22. Найдите производителей, которые производили бы как ПК со скоростью не менее 750 МГц, так и ПК-блокноты со скоростью не менее 750 МГц. Вывести: Maker"
   ]
  },
  {
   "cell_type": "code",
   "execution_count": 49,
   "id": "beb3d6e3",
   "metadata": {},
   "outputs": [],
   "source": [
    "sql = '''\n",
    "SELECT DISTINCT t.maker\n",
    "FROM product AS t JOIN pc AS p \n",
    "ON t.model = p.model\n",
    "WHERE p.speed >= 750 AND t.maker IN\n",
    "(SELECT t.maker\n",
    "FROM product AS t JOIN laptop AS l ON t.model=l.model\n",
    "WHERE l.speed >=750)\n",
    "'''"
   ]
  },
  {
   "cell_type": "code",
   "execution_count": 50,
   "id": "e1a57ed8",
   "metadata": {},
   "outputs": [
    {
     "data": {
      "text/html": [
       "<div>\n",
       "<style scoped>\n",
       "    .dataframe tbody tr th:only-of-type {\n",
       "        vertical-align: middle;\n",
       "    }\n",
       "\n",
       "    .dataframe tbody tr th {\n",
       "        vertical-align: top;\n",
       "    }\n",
       "\n",
       "    .dataframe thead th {\n",
       "        text-align: right;\n",
       "    }\n",
       "</style>\n",
       "<table border=\"1\" class=\"dataframe\">\n",
       "  <thead>\n",
       "    <tr style=\"text-align: right;\">\n",
       "      <th></th>\n",
       "      <th>maker</th>\n",
       "    </tr>\n",
       "  </thead>\n",
       "  <tbody>\n",
       "    <tr>\n",
       "      <th>0</th>\n",
       "      <td>B</td>\n",
       "    </tr>\n",
       "    <tr>\n",
       "      <th>1</th>\n",
       "      <td>A</td>\n",
       "    </tr>\n",
       "  </tbody>\n",
       "</table>\n",
       "</div>"
      ],
      "text/plain": [
       "  maker\n",
       "0     B\n",
       "1     A"
      ]
     },
     "execution_count": 50,
     "metadata": {},
     "output_type": "execute_result"
    }
   ],
   "source": [
    "select(sql)"
   ]
  },
  {
   "cell_type": "markdown",
   "id": "2cebe148",
   "metadata": {},
   "source": [
    "### 23. Перечислите номера моделей любых типов, имеющих самую высокую цену по всей имеющейся в базе данных продукции."
   ]
  },
  {
   "cell_type": "code",
   "execution_count": 51,
   "id": "7429f6f9",
   "metadata": {},
   "outputs": [],
   "source": [
    "sql = '''\n",
    "SELECT model\n",
    "FROM (SELECT p.model, p.price\n",
    "FROM pc AS p\n",
    "UNION SELECT l.model, l.price\n",
    "FROM Laptop AS l\n",
    "UNION SELECT r.model, r.price\n",
    "FROM Printer AS r\n",
    ") t1\n",
    "WHERE price = (\n",
    "SELECT MAX(price)\n",
    "FROM (SELECT p.price\n",
    "FROM pc AS p\n",
    "UNION SELECT l.price\n",
    "FROM Laptop AS l \n",
    "UNION SELECT r.price\n",
    "FROM Printer AS r\n",
    ") t2\n",
    ")\n",
    "'''"
   ]
  },
  {
   "cell_type": "code",
   "execution_count": 52,
   "id": "1abdcf49",
   "metadata": {},
   "outputs": [
    {
     "data": {
      "text/html": [
       "<div>\n",
       "<style scoped>\n",
       "    .dataframe tbody tr th:only-of-type {\n",
       "        vertical-align: middle;\n",
       "    }\n",
       "\n",
       "    .dataframe tbody tr th {\n",
       "        vertical-align: top;\n",
       "    }\n",
       "\n",
       "    .dataframe thead th {\n",
       "        text-align: right;\n",
       "    }\n",
       "</style>\n",
       "<table border=\"1\" class=\"dataframe\">\n",
       "  <thead>\n",
       "    <tr style=\"text-align: right;\">\n",
       "      <th></th>\n",
       "      <th>model</th>\n",
       "    </tr>\n",
       "  </thead>\n",
       "  <tbody>\n",
       "    <tr>\n",
       "      <th>0</th>\n",
       "      <td>1750</td>\n",
       "    </tr>\n",
       "  </tbody>\n",
       "</table>\n",
       "</div>"
      ],
      "text/plain": [
       "  model\n",
       "0  1750"
      ]
     },
     "execution_count": 52,
     "metadata": {},
     "output_type": "execute_result"
    }
   ],
   "source": [
    "select(sql)\n"
   ]
  },
  {
   "cell_type": "markdown",
   "id": "de7c3899",
   "metadata": {},
   "source": [
    "### 24. Найдите производителей принтеров, которые производят ПК с наименьшим объемом RAM и с самым быстрым процессором среди всех ПК, имеющих наименьший объем RAM. Вывести: Maker."
   ]
  },
  {
   "cell_type": "code",
   "execution_count": 181,
   "id": "4493ad5d",
   "metadata": {},
   "outputs": [],
   "source": [
    "sql = '''\n",
    "\n",
    "SELECT \n",
    "SELECT t.maker, MAX(p.speed), MIN(p.ram)\n",
    "FROM PC AS p INNER JOIN Product AS t\n",
    "ON t.model == p.model\n",
    "GROUP BY t.maker\n",
    "\n",
    "'''"
   ]
  },
  {
   "cell_type": "code",
   "execution_count": null,
   "id": "aa34bead",
   "metadata": {},
   "outputs": [],
   "source": []
  },
  {
   "cell_type": "code",
   "execution_count": 184,
   "id": "c9daa1f7",
   "metadata": {},
   "outputs": [],
   "source": [
    "sql = '''\n",
    "SELECT DISTINCT maker\n",
    "FROM Printer INNER JOIN Product\n",
    "ON Product.model == Printer.model\n",
    "\n",
    "'''"
   ]
  },
  {
   "cell_type": "code",
   "execution_count": 185,
   "id": "6fefef6b",
   "metadata": {},
   "outputs": [
    {
     "data": {
      "text/html": [
       "<div>\n",
       "<style scoped>\n",
       "    .dataframe tbody tr th:only-of-type {\n",
       "        vertical-align: middle;\n",
       "    }\n",
       "\n",
       "    .dataframe tbody tr th {\n",
       "        vertical-align: top;\n",
       "    }\n",
       "\n",
       "    .dataframe thead th {\n",
       "        text-align: right;\n",
       "    }\n",
       "</style>\n",
       "<table border=\"1\" class=\"dataframe\">\n",
       "  <thead>\n",
       "    <tr style=\"text-align: right;\">\n",
       "      <th></th>\n",
       "      <th>maker</th>\n",
       "    </tr>\n",
       "  </thead>\n",
       "  <tbody>\n",
       "    <tr>\n",
       "      <th>0</th>\n",
       "      <td>A</td>\n",
       "    </tr>\n",
       "    <tr>\n",
       "      <th>1</th>\n",
       "      <td>D</td>\n",
       "    </tr>\n",
       "    <tr>\n",
       "      <th>2</th>\n",
       "      <td>E</td>\n",
       "    </tr>\n",
       "  </tbody>\n",
       "</table>\n",
       "</div>"
      ],
      "text/plain": [
       "  maker\n",
       "0     A\n",
       "1     D\n",
       "2     E"
      ]
     },
     "execution_count": 185,
     "metadata": {},
     "output_type": "execute_result"
    }
   ],
   "source": [
    "select(sql)"
   ]
  },
  {
   "cell_type": "code",
   "execution_count": 151,
   "id": "7f857cb8",
   "metadata": {},
   "outputs": [],
   "source": [
    "sql = '''\n",
    "SELECT *\n",
    "FROM Product INNER JOIN printer\n",
    "ON Product.model == printer.model\n",
    "'''"
   ]
  },
  {
   "cell_type": "code",
   "execution_count": 137,
   "id": "a44e7eef",
   "metadata": {},
   "outputs": [],
   "source": [
    "\n",
    "sql = '''\n",
    "SELECT t.maker, MAX(p.speed), MIN(p.ram)\n",
    "FROM PC AS p INNER JOIN Product AS t\n",
    "ON t.model == p.model\n",
    "GROUP BY t.maker\n",
    "'''"
   ]
  },
  {
   "cell_type": "code",
   "execution_count": 147,
   "id": "06b1c5ec",
   "metadata": {},
   "outputs": [],
   "source": [
    "sql = '''\n",
    "\n",
    "SELECT *\n",
    "FROM printer\n",
    "\n",
    "'''"
   ]
  },
  {
   "cell_type": "code",
   "execution_count": 156,
   "id": "c1316030",
   "metadata": {},
   "outputs": [
    {
     "ename": "DatabaseError",
     "evalue": "Execution failed on sql '\n\n\nSELECT *\nFROM Product INNER JOIN Printer\nON Product.model == Printer.model\n\nWHERE (Printer.model, PC.speed, PC.ram) IN\n(SELECT MAX(p.speed), MIN(p.ram)\nFROM PC AS p INNER JOIN Product AS t\nON t.model == p.model\n)\n\n': no such column: PC.speed",
     "output_type": "error",
     "traceback": [
      "\u001b[1;31m---------------------------------------------------------------------------\u001b[0m",
      "\u001b[1;31mOperationalError\u001b[0m                          Traceback (most recent call last)",
      "\u001b[1;32m~\\anaconda3\\lib\\site-packages\\pandas\\io\\sql.py\u001b[0m in \u001b[0;36mexecute\u001b[1;34m(self, *args, **kwargs)\u001b[0m\n\u001b[0;32m   1724\u001b[0m         \u001b[1;32mtry\u001b[0m\u001b[1;33m:\u001b[0m\u001b[1;33m\u001b[0m\u001b[1;33m\u001b[0m\u001b[0m\n\u001b[1;32m-> 1725\u001b[1;33m             \u001b[0mcur\u001b[0m\u001b[1;33m.\u001b[0m\u001b[0mexecute\u001b[0m\u001b[1;33m(\u001b[0m\u001b[1;33m*\u001b[0m\u001b[0margs\u001b[0m\u001b[1;33m,\u001b[0m \u001b[1;33m**\u001b[0m\u001b[0mkwargs\u001b[0m\u001b[1;33m)\u001b[0m\u001b[1;33m\u001b[0m\u001b[1;33m\u001b[0m\u001b[0m\n\u001b[0m\u001b[0;32m   1726\u001b[0m             \u001b[1;32mreturn\u001b[0m \u001b[0mcur\u001b[0m\u001b[1;33m\u001b[0m\u001b[1;33m\u001b[0m\u001b[0m\n",
      "\u001b[1;31mOperationalError\u001b[0m: no such column: PC.speed",
      "\nThe above exception was the direct cause of the following exception:\n",
      "\u001b[1;31mDatabaseError\u001b[0m                             Traceback (most recent call last)",
      "\u001b[1;32m<ipython-input-156-3abb1b804f07>\u001b[0m in \u001b[0;36m<module>\u001b[1;34m\u001b[0m\n\u001b[1;32m----> 1\u001b[1;33m \u001b[0mselect\u001b[0m\u001b[1;33m(\u001b[0m\u001b[0msql\u001b[0m\u001b[1;33m)\u001b[0m\u001b[1;33m\u001b[0m\u001b[1;33m\u001b[0m\u001b[0m\n\u001b[0m",
      "\u001b[1;32m<ipython-input-65-c484b17490ec>\u001b[0m in \u001b[0;36mselect\u001b[1;34m(sql)\u001b[0m\n\u001b[0;32m      1\u001b[0m \u001b[1;32mdef\u001b[0m \u001b[0mselect\u001b[0m\u001b[1;33m(\u001b[0m\u001b[0msql\u001b[0m\u001b[1;33m)\u001b[0m\u001b[1;33m:\u001b[0m\u001b[1;33m\u001b[0m\u001b[1;33m\u001b[0m\u001b[0m\n\u001b[1;32m----> 2\u001b[1;33m     \u001b[1;32mreturn\u001b[0m \u001b[0mpd\u001b[0m\u001b[1;33m.\u001b[0m\u001b[0mread_sql\u001b[0m\u001b[1;33m(\u001b[0m\u001b[0msql\u001b[0m\u001b[1;33m,\u001b[0m\u001b[0mconn\u001b[0m\u001b[1;33m)\u001b[0m\u001b[1;33m\u001b[0m\u001b[1;33m\u001b[0m\u001b[0m\n\u001b[0m",
      "\u001b[1;32m~\\anaconda3\\lib\\site-packages\\pandas\\io\\sql.py\u001b[0m in \u001b[0;36mread_sql\u001b[1;34m(sql, con, index_col, coerce_float, params, parse_dates, columns, chunksize)\u001b[0m\n\u001b[0;32m    493\u001b[0m \u001b[1;33m\u001b[0m\u001b[0m\n\u001b[0;32m    494\u001b[0m     \u001b[1;32mif\u001b[0m \u001b[0misinstance\u001b[0m\u001b[1;33m(\u001b[0m\u001b[0mpandas_sql\u001b[0m\u001b[1;33m,\u001b[0m \u001b[0mSQLiteDatabase\u001b[0m\u001b[1;33m)\u001b[0m\u001b[1;33m:\u001b[0m\u001b[1;33m\u001b[0m\u001b[1;33m\u001b[0m\u001b[0m\n\u001b[1;32m--> 495\u001b[1;33m         return pandas_sql.read_query(\n\u001b[0m\u001b[0;32m    496\u001b[0m             \u001b[0msql\u001b[0m\u001b[1;33m,\u001b[0m\u001b[1;33m\u001b[0m\u001b[1;33m\u001b[0m\u001b[0m\n\u001b[0;32m    497\u001b[0m             \u001b[0mindex_col\u001b[0m\u001b[1;33m=\u001b[0m\u001b[0mindex_col\u001b[0m\u001b[1;33m,\u001b[0m\u001b[1;33m\u001b[0m\u001b[1;33m\u001b[0m\u001b[0m\n",
      "\u001b[1;32m~\\anaconda3\\lib\\site-packages\\pandas\\io\\sql.py\u001b[0m in \u001b[0;36mread_query\u001b[1;34m(self, sql, index_col, coerce_float, params, parse_dates, chunksize)\u001b[0m\n\u001b[0;32m   1769\u001b[0m \u001b[1;33m\u001b[0m\u001b[0m\n\u001b[0;32m   1770\u001b[0m         \u001b[0margs\u001b[0m \u001b[1;33m=\u001b[0m \u001b[0m_convert_params\u001b[0m\u001b[1;33m(\u001b[0m\u001b[0msql\u001b[0m\u001b[1;33m,\u001b[0m \u001b[0mparams\u001b[0m\u001b[1;33m)\u001b[0m\u001b[1;33m\u001b[0m\u001b[1;33m\u001b[0m\u001b[0m\n\u001b[1;32m-> 1771\u001b[1;33m         \u001b[0mcursor\u001b[0m \u001b[1;33m=\u001b[0m \u001b[0mself\u001b[0m\u001b[1;33m.\u001b[0m\u001b[0mexecute\u001b[0m\u001b[1;33m(\u001b[0m\u001b[1;33m*\u001b[0m\u001b[0margs\u001b[0m\u001b[1;33m)\u001b[0m\u001b[1;33m\u001b[0m\u001b[1;33m\u001b[0m\u001b[0m\n\u001b[0m\u001b[0;32m   1772\u001b[0m         \u001b[0mcolumns\u001b[0m \u001b[1;33m=\u001b[0m \u001b[1;33m[\u001b[0m\u001b[0mcol_desc\u001b[0m\u001b[1;33m[\u001b[0m\u001b[1;36m0\u001b[0m\u001b[1;33m]\u001b[0m \u001b[1;32mfor\u001b[0m \u001b[0mcol_desc\u001b[0m \u001b[1;32min\u001b[0m \u001b[0mcursor\u001b[0m\u001b[1;33m.\u001b[0m\u001b[0mdescription\u001b[0m\u001b[1;33m]\u001b[0m\u001b[1;33m\u001b[0m\u001b[1;33m\u001b[0m\u001b[0m\n\u001b[0;32m   1773\u001b[0m \u001b[1;33m\u001b[0m\u001b[0m\n",
      "\u001b[1;32m~\\anaconda3\\lib\\site-packages\\pandas\\io\\sql.py\u001b[0m in \u001b[0;36mexecute\u001b[1;34m(self, *args, **kwargs)\u001b[0m\n\u001b[0;32m   1735\u001b[0m \u001b[1;33m\u001b[0m\u001b[0m\n\u001b[0;32m   1736\u001b[0m             \u001b[0mex\u001b[0m \u001b[1;33m=\u001b[0m \u001b[0mDatabaseError\u001b[0m\u001b[1;33m(\u001b[0m\u001b[1;34mf\"Execution failed on sql '{args[0]}': {exc}\"\u001b[0m\u001b[1;33m)\u001b[0m\u001b[1;33m\u001b[0m\u001b[1;33m\u001b[0m\u001b[0m\n\u001b[1;32m-> 1737\u001b[1;33m             \u001b[1;32mraise\u001b[0m \u001b[0mex\u001b[0m \u001b[1;32mfrom\u001b[0m \u001b[0mexc\u001b[0m\u001b[1;33m\u001b[0m\u001b[1;33m\u001b[0m\u001b[0m\n\u001b[0m\u001b[0;32m   1738\u001b[0m \u001b[1;33m\u001b[0m\u001b[0m\n\u001b[0;32m   1739\u001b[0m     \u001b[1;33m@\u001b[0m\u001b[0mstaticmethod\u001b[0m\u001b[1;33m\u001b[0m\u001b[1;33m\u001b[0m\u001b[0m\n",
      "\u001b[1;31mDatabaseError\u001b[0m: Execution failed on sql '\n\n\nSELECT *\nFROM Product INNER JOIN Printer\nON Product.model == Printer.model\n\nWHERE (Printer.model, PC.speed, PC.ram) IN\n(SELECT MAX(p.speed), MIN(p.ram)\nFROM PC AS p INNER JOIN Product AS t\nON t.model == p.model\n)\n\n': no such column: PC.speed"
     ]
    }
   ],
   "source": [
    "select(sql)"
   ]
  },
  {
   "cell_type": "code",
   "execution_count": 110,
   "id": "316ee877",
   "metadata": {},
   "outputs": [],
   "source": [
    "sql = '''\n",
    "SELECT DISTINCT t.maker\n",
    "FROM product AS t\n",
    "WHERE model IN (\n",
    "SELECT p.model\n",
    "FROM pc AS p\n",
    "WHERE ram = (\n",
    "SELECT MIN(p.ram)\n",
    "FROM pc AS p)\n",
    "AND speed = (\n",
    "SELECT MAX(p.speed)\n",
    "FROM pc AS p\n",
    "WHERE ram = (\n",
    "SELECT MIN(p.ram)\n",
    "FROM pc AS p)\n",
    ")\n",
    ")\n",
    "AND\n",
    "maker IN (\n",
    "SELECT t.maker\n",
    "FROM product AS t\n",
    "WHERE type = 'printer'\n",
    ")\n",
    "'''"
   ]
  },
  {
   "cell_type": "code",
   "execution_count": 111,
   "id": "766c86a9",
   "metadata": {},
   "outputs": [
    {
     "data": {
      "text/html": [
       "<div>\n",
       "<style scoped>\n",
       "    .dataframe tbody tr th:only-of-type {\n",
       "        vertical-align: middle;\n",
       "    }\n",
       "\n",
       "    .dataframe tbody tr th {\n",
       "        vertical-align: top;\n",
       "    }\n",
       "\n",
       "    .dataframe thead th {\n",
       "        text-align: right;\n",
       "    }\n",
       "</style>\n",
       "<table border=\"1\" class=\"dataframe\">\n",
       "  <thead>\n",
       "    <tr style=\"text-align: right;\">\n",
       "      <th></th>\n",
       "      <th>maker</th>\n",
       "    </tr>\n",
       "  </thead>\n",
       "  <tbody>\n",
       "  </tbody>\n",
       "</table>\n",
       "</div>"
      ],
      "text/plain": [
       "Empty DataFrame\n",
       "Columns: [maker]\n",
       "Index: []"
      ]
     },
     "execution_count": 111,
     "metadata": {},
     "output_type": "execute_result"
    }
   ],
   "source": [
    "select(sql)"
   ]
  },
  {
   "cell_type": "markdown",
   "id": "e19cda46",
   "metadata": {},
   "source": [
    "### 25. Найдите среднюю цену ПК и ПК-блокнотов, выпущенных производителем A (латинская буква). Вывести: одна общая средняя цена."
   ]
  },
  {
   "cell_type": "code",
   "execution_count": 55,
   "id": "180335d3",
   "metadata": {},
   "outputs": [],
   "source": [
    "sql = '''\n",
    "SELECT SUM(t.price)/SUM(t.s) as avgprice FROM\n",
    "(SELECT price, 1 AS s \n",
    "FROM pc, product\n",
    "WHERE pc.model = product.model \n",
    "AND product.maker = 'A'\n",
    "UNION ALL\n",
    "SELECT price, 1 AS s \n",
    "FROM laptop,product\n",
    "WHERE laptop.model = product.model \n",
    "AND product.maker = 'A') as t\n",
    "'''"
   ]
  },
  {
   "cell_type": "code",
   "execution_count": 56,
   "id": "dca554b3",
   "metadata": {},
   "outputs": [
    {
     "data": {
      "text/html": [
       "<div>\n",
       "<style scoped>\n",
       "    .dataframe tbody tr th:only-of-type {\n",
       "        vertical-align: middle;\n",
       "    }\n",
       "\n",
       "    .dataframe tbody tr th {\n",
       "        vertical-align: top;\n",
       "    }\n",
       "\n",
       "    .dataframe thead th {\n",
       "        text-align: right;\n",
       "    }\n",
       "</style>\n",
       "<table border=\"1\" class=\"dataframe\">\n",
       "  <thead>\n",
       "    <tr style=\"text-align: right;\">\n",
       "      <th></th>\n",
       "      <th>avgprice</th>\n",
       "    </tr>\n",
       "  </thead>\n",
       "  <tbody>\n",
       "    <tr>\n",
       "      <th>0</th>\n",
       "      <td>754</td>\n",
       "    </tr>\n",
       "  </tbody>\n",
       "</table>\n",
       "</div>"
      ],
      "text/plain": [
       "   avgprice\n",
       "0       754"
      ]
     },
     "execution_count": 56,
     "metadata": {},
     "output_type": "execute_result"
    }
   ],
   "source": [
    "select(sql)"
   ]
  },
  {
   "cell_type": "markdown",
   "id": "97b185b8",
   "metadata": {},
   "source": [
    "### 26. Найдите средний размер диска ПК каждого из тех производителей, которые выпускают и принтеры. Вывести: maker, средний размер HD."
   ]
  },
  {
   "cell_type": "code",
   "execution_count": 108,
   "id": "17ff3652",
   "metadata": {},
   "outputs": [],
   "source": [
    "sql = '''\n",
    "SELECT t.maker, AVG(p.hd)\n",
    "FROM pc AS p INNER JOIN product AS t\n",
    "ON t.model == p.model\n",
    "WHERE t.maker IN \n",
    "(SELECT DISTINCT product.maker\n",
    "FROM product\n",
    "WHERE product.type = 'Printer')\n",
    "GROUP BY t.maker\n",
    "'''"
   ]
  },
  {
   "cell_type": "code",
   "execution_count": 109,
   "id": "9f1b139c",
   "metadata": {},
   "outputs": [
    {
     "data": {
      "text/html": [
       "<div>\n",
       "<style scoped>\n",
       "    .dataframe tbody tr th:only-of-type {\n",
       "        vertical-align: middle;\n",
       "    }\n",
       "\n",
       "    .dataframe tbody tr th {\n",
       "        vertical-align: top;\n",
       "    }\n",
       "\n",
       "    .dataframe thead th {\n",
       "        text-align: right;\n",
       "    }\n",
       "</style>\n",
       "<table border=\"1\" class=\"dataframe\">\n",
       "  <thead>\n",
       "    <tr style=\"text-align: right;\">\n",
       "      <th></th>\n",
       "      <th>maker</th>\n",
       "      <th>AVG(p.hd)</th>\n",
       "    </tr>\n",
       "  </thead>\n",
       "  <tbody>\n",
       "    <tr>\n",
       "      <th>0</th>\n",
       "      <td>A</td>\n",
       "      <td>14.75</td>\n",
       "    </tr>\n",
       "    <tr>\n",
       "      <th>1</th>\n",
       "      <td>E</td>\n",
       "      <td>10.00</td>\n",
       "    </tr>\n",
       "  </tbody>\n",
       "</table>\n",
       "</div>"
      ],
      "text/plain": [
       "  maker  AVG(p.hd)\n",
       "0     A      14.75\n",
       "1     E      10.00"
      ]
     },
     "execution_count": 109,
     "metadata": {},
     "output_type": "execute_result"
    }
   ],
   "source": [
    "select(sql)"
   ]
  },
  {
   "cell_type": "markdown",
   "id": "numeric-credit",
   "metadata": {},
   "source": [
    "## Корабли\n",
    "[Навигатор](#Задачи)"
   ]
  },
  {
   "cell_type": "markdown",
   "id": "clear-france",
   "metadata": {},
   "source": [
    "Рассматривается БД кораблей, участвовавших во второй мировой войне. Имеются следующие отношения:\n",
    "Classes (class, type, country, numGuns, bore, displacement)\n",
    "Ships (name, class, launched)\n",
    "Battles (name, date)\n",
    "Outcomes (ship, battle, result)\n",
    "Корабли в «классах» построены по одному и тому же проекту, и классу присваивается либо имя первого корабля, построенного по данному проекту, либо названию класса дается имя проекта, которое не совпадает ни с одним из кораблей в БД. Корабль, давший название классу, называется головным.\n",
    "Отношение Classes содержит имя класса, тип (bb для боевого (линейного) корабля или bc для боевого крейсера), страну, в которой построен корабль, число главных орудий, калибр орудий (диаметр ствола орудия в дюймах) и водоизмещение ( вес в тоннах). В отношении Ships записаны название корабля, имя его класса и год спуска на воду. В отношение Battles включены название и дата битвы, в которой участвовали корабли, а в отношении Outcomes – результат участия данного корабля в битве (потоплен-sunk, поврежден - damaged или невредим - OK).\n",
    "Замечания. 1) В отношение Outcomes могут входить корабли, отсутствующие в отношении Ships. 2) Потопленный корабль в последующих битвах участия не принимает."
   ]
  },
  {
   "cell_type": "markdown",
   "id": "resident-petersburg",
   "metadata": {},
   "source": [
    "new_ships хранит корабли из таблиц Ships и Outcomes, max_guns хранит максимальное число орудий для каждого водоизмещения.\n",
    "Джойним таблички по водоизмещению и числу оружий (число оружий из таблички ships приравниваем к максимальному числу оружий из max_guns)."
   ]
  },
  {
   "cell_type": "code",
   "execution_count": null,
   "id": "56082853",
   "metadata": {},
   "outputs": [],
   "source": []
  },
  {
   "cell_type": "code",
   "execution_count": null,
   "id": "5e95f3f7",
   "metadata": {},
   "outputs": [],
   "source": []
  },
  {
   "cell_type": "code",
   "execution_count": null,
   "id": "c4bfc2ad",
   "metadata": {},
   "outputs": [],
   "source": []
  }
 ],
 "metadata": {
  "kernelspec": {
   "display_name": "Python 3",
   "language": "python",
   "name": "python3"
  },
  "language_info": {
   "codemirror_mode": {
    "name": "ipython",
    "version": 3
   },
   "file_extension": ".py",
   "mimetype": "text/x-python",
   "name": "python",
   "nbconvert_exporter": "python",
   "pygments_lexer": "ipython3",
   "version": "3.8.8"
  }
 },
 "nbformat": 4,
 "nbformat_minor": 5
}
